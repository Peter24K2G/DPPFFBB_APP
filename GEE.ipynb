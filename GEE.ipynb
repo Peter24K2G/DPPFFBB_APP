{
  "cells": [
    {
      "cell_type": "markdown",
      "metadata": {
        "id": "UPhgumMeo2a8"
      },
      "source": [
        "# Acceso a Google Earth Engine y Descarga de Datos Recortados\n",
        "En este notebook aprenderás a:\n",
        "1. Autenticarte en Google Earth Engine (GEE).\n",
        "2. Cargar datos de Maximum Water Extent.\n",
        "3. Visualizar los datos en un mapa interactivo usando Leaflet.\n",
        "4. Seleccionar un área y descargar los datos recortados en formato GeoTIFF.\n",
        "\n",
        "---"
      ]
    },
    {
      "cell_type": "code",
      "execution_count": null,
      "metadata": {
        "colab": {
          "base_uri": "https://localhost:8080/"
        },
        "id": "uZWkKC8Eo2a-",
        "outputId": "022e5655-8d60-41de-c076-89e9749a1649"
      },
      "outputs": [],
      "source": [
        "# Instalación de bibliotecas necesarias\n",
        "!pip install streamlit leafmap earthengine-api geopandas"
      ]
    },
    {
      "cell_type": "markdown",
      "metadata": {
        "id": "BUn5YBiko2bA"
      },
      "source": [
        "## Autenticación en Google Earth Engine\n",
        "Para acceder a los datos, debes autenticarte en GEE utilizando tu cuenta de Google.\n",
        "El siguiente bloque solicita el usuario y la contraseña para iniciar sesión."
      ]
    },
    {
      "cell_type": "code",
      "execution_count": null,
      "metadata": {
        "colab": {
          "base_uri": "https://localhost:8080/"
        },
        "id": "S2sbGLtmo2bB",
        "outputId": "117374fc-ce74-4e6f-87db-8cd3c6ebb1dd"
      },
      "outputs": [],
      "source": [
        "import ee\n",
        "\n",
        "# 🔄 REEMPLAZAR estas credenciales con las tuyas propias\n",
        "# Ejemplo: usuario = \"tu_correo@ejemplo.com\" y contrasena = \"tu_contraseña_secreta\"\n",
        "usuario = \"tu_correo@ejemplo.com\"\n",
        "contrasena = \"tu_contraseña_secreta\"\n",
        "\n",
        "# Autenticación en Google Earth Engine\n",
        "if usuario and contrasena:\n",
        "    print(\"🔑 Credenciales ingresadas. Intentando autenticar...\")\n",
        "    try:\n",
        "        # 🟢 Esta línea abrirá una ventana para autenticar si es necesario\n",
        "        ee.Authenticate()  \n",
        "        \n",
        "        # 🟢 Reemplaza 'ee-tu_proyecto' con el nombre de tu proyecto en GEE si aplica\n",
        "        ee.Initialize(project='ee-tu_proyecto')\n",
        "        \n",
        "        print(\"✅ Autenticación exitosa con Google Earth Engine.\")\n",
        "    except Exception as e:\n",
        "        print(f\"❌ Error de autenticación: {str(e)}\")\n",
        "else:\n",
        "    print(\"⚠️ Credenciales no válidas. Asegúrate de reemplazar las credenciales dummy.\")"
      ]
    },
    {
      "cell_type": "markdown",
      "metadata": {
        "id": "44dZN4L4o2bC"
      },
      "source": [
        "## Cargar y visualizar datos de Global Surface Water\n",
        "Este bloque carga los datos de GEE y los muestra en un mapa interactivo utilizando Leaflet, dentro de cada uno de ellos puedes dibujar un poligono de no mucha extensión y obtener un enlace para la descarga de los datos en formato .tif"
      ]
    },
    {
      "cell_type": "code",
      "execution_count": null,
      "metadata": {
        "id": "ZCWAdZx9uBWm"
      },
      "outputs": [],
      "source": [
        "from ipyleaflet import Map, TileLayer, DrawControl, basemaps, LegendControl\n",
        "import ee\n",
        "import json\n",
        "from IPython.display import display\n",
        "\n",
        "# Función para agregar leyenda personalizada\n",
        "def agregar_leyenda(mapa, title, legend_dict):\n",
        "    legend = LegendControl(\n",
        "        {k: v for k, v in legend_dict.items()},\n",
        "        name=title,\n",
        "        position=\"bottomright\"\n",
        "    )\n",
        "    mapa.add_control(legend)\n"
      ]
    },
    {
      "cell_type": "markdown",
      "metadata": {
        "id": "hBDkjexLvCNO"
      },
      "source": [
        "## 🌊 Water Occurrence\n",
        "El dataset **Water Occurrence** muestra las áreas donde ha existido agua superficial entre **1984 y 2021**. Proporciona información sobre la **frecuencia** con la que el agua estuvo presente en la superficie, capturando tanto la **variabilidad intraanual** como la **interanual**.\n",
        "\n",
        "- **Agua permanente (100%):** Áreas con agua constante durante todo el período.\n",
        "- **Agua intermitente (1%-99%):** Áreas donde el agua estuvo presente de forma variable.\n",
        "- **Sin agua:** Regiones sin detección de agua.\n",
        "- **Sin datos:** Áreas sin cobertura de datos.\n",
        "\n",
        "Este producto es útil para analizar la **dinámica a largo plazo** de los cuerpos de agua y los efectos del **cambio climático** y las **actividades humanas** en los recursos hídricos.\n"
      ]
    },
    {
      "cell_type": "code",
      "execution_count": null,
      "metadata": {
        "colab": {
          "base_uri": "https://localhost:8080/",
          "height": 456,
          "referenced_widgets": [
            "db61712c8ceb470189c7c4e8c724a099",
            "0f69795abeff48cfa7b76f98a96237e2",
            "620fa3c90ecc4b28ae2b9c6b0741e531",
            "63a11e7a84c7468495485e7de5cd1ec5",
            "649bbad8198e4d0cb4d4864a8e9dcebe",
            "0367849cb6074b52bbba78c70bdd3222",
            "8174a4314dd947f28ed9fa3333b37b7b",
            "9747e65c59c04396baf3916d763d3f59",
            "e28431d276b947b3a529c59d3c86e39d",
            "9410e181600d420ab6894a1cf3cebc34",
            "a9d06d87b24c481ea90433fc8fe0e04c"
          ]
        },
        "id": "b94IDqpEo2bD",
        "outputId": "d843076f-e8bf-4c93-ce83-c810667beb5d"
      },
      "outputs": [],
      "source": [
        "dataset = ee.Image('JRC/GSW1_4/GlobalSurfaceWater').select('occurrence')\n",
        "\n",
        "m = Map(center=(9.144571, -74.634518), zoom=8, basemap=basemaps.CartoDB.Positron)\n",
        "m.add_layer(TileLayer(url=\"https://storage.googleapis.com/global-surface-water/tiles2021/occurrence/{z}/{x}/{y}.png\"))\n",
        "\n",
        "agregar_leyenda(m, \"Leyenda - Water Occurrence\", {\n",
        "    \"Agua permanente (100%)\": \"#0000FF\",\n",
        "    \"Agua intermitente (1%-99%)\": \"#FF0000\",\n",
        "    \"Sin agua\": \"#FFFFFF\",\n",
        "    \"Sin datos\": \"#CCCCCC\"\n",
        "})\n",
        "\n",
        "draw_control = DrawControl()\n",
        "m.add_control(draw_control)\n",
        "display(m)\n",
        "\n",
        "def on_draw(target, action, geo_json):\n",
        "    coords = geo_json['geometry']['coordinates']\n",
        "    geometry = ee.Geometry.Polygon(coords)\n",
        "    clip = dataset.clip(geometry)\n",
        "\n",
        "    # Exportar los datos recortados a GeoTIFF\n",
        "    print(\"⏳ Generando enlace de descarga de GeoTIFF...\")\n",
        "    url = clip.getDownloadURL({\n",
        "        'scale': 30,\n",
        "        'crs': 'EPSG:4326',\n",
        "        'region': geometry.toGeoJSONString(),\n",
        "        'fileFormat': 'GeoTIFF'\n",
        "    })\n",
        "\n",
        "    print(f\"✅ Enlace generado: [Descargar GeoTIFF]({url})\")\n",
        "\n",
        "draw_control.on_draw(on_draw)"
      ]
    },
    {
      "cell_type": "markdown",
      "metadata": {
        "id": "sCst6jowvScq"
      },
      "source": [
        "## 📊 Occurrence Change Intensity\n",
        "El dataset **Occurrence Change Intensity** analiza los cambios en la ocurrencia de agua superficial entre **1984 y 2021**.\n",
        "\n",
        "- **Aumento de agua (100%):** Regiones donde la presencia de agua ha incrementado significativamente.\n",
        "- **Disminución de agua (-100%):** Áreas donde la presencia de agua ha disminuido.\n",
        "- **Sin cambios:** Regiones estables sin variaciones significativas.\n",
        "- **Sin datos:** Áreas sin cobertura de datos.\n",
        "\n",
        "Este producto ayuda a identificar tendencias y patrones en la disponibilidad de agua a lo largo del tiempo, crucial para la **gestión sostenible** de los recursos hídricos.\n"
      ]
    },
    {
      "cell_type": "code",
      "execution_count": null,
      "metadata": {
        "colab": {
          "base_uri": "https://localhost:8080/",
          "height": 421,
          "referenced_widgets": [
            "2dd24ac1e67c451195fc24525f7c4da1",
            "bf0752c14b29443f8c6171f1d23f1f09",
            "3b6729dcc2b74f9b907985cf33174382",
            "97ef8b47212e4ef397b8546e504037cd",
            "a72ee31c044a4150b8e3898baeca3c65",
            "2af8fa35e8bf4fb583377e9d54bbcaac",
            "df1d0d079d864b37968170cd81005e21",
            "4e5e617778a348d88432ed0a0dfafbba",
            "37d3b4df550d445594ab081b2ac68bbe",
            "cc3201877a12453481c93b24617c2120",
            "5a487925bedf4fbea67bea0c8ceac13a"
          ]
        },
        "id": "tGZMT5HAuUl-",
        "outputId": "c3c775bd-683a-4f76-ede7-05efc0ea204a"
      },
      "outputs": [],
      "source": [
        "dataset = ee.Image('JRC/GSW1_4/GlobalSurfaceWater').select('change')\n",
        "\n",
        "m = Map(center=(9.144571, -74.634518), zoom=8, basemap=basemaps.CartoDB.Positron)\n",
        "m.add_layer(TileLayer(url=\"https://storage.googleapis.com/global-surface-water/tiles2021/change/{z}/{x}/{y}.png\"))\n",
        "\n",
        "agregar_leyenda(m, \"Leyenda - Change Intensity\", {\n",
        "    \"Aumento de agua (100%)\": \"#00FF00\",\n",
        "    \"Disminucion de agua (-100%)\": \"#FF0000\",\n",
        "    \"Sin cambios\": \"#000000\",\n",
        "    \"Sin datos\": \"#CCCCCC\",\n",
        "    \"No se puede calcular\": \"#888888\"\n",
        "})\n",
        "\n",
        "draw_control = DrawControl()\n",
        "m.add_control(draw_control)\n",
        "display(m)\n",
        "\n",
        "def on_draw(target, action, geo_json):\n",
        "    coords = geo_json['geometry']['coordinates']\n",
        "    geometry = ee.Geometry.Polygon(coords)\n",
        "    clip = dataset.clip(geometry)\n",
        "\n",
        "    # Exportar a GeoTIFF\n",
        "    print(\"⏳ Generando enlace de descarga de GeoTIFF...\")\n",
        "    url = clip.getDownloadURL({\n",
        "        'scale': 30,\n",
        "        'crs': 'EPSG:4326',\n",
        "        'region': geometry.toGeoJSONString(),\n",
        "        'fileFormat': 'GeoTIFF'\n",
        "    })\n",
        "    print(f\"✅ Enlace generado: [Descargar GeoTIFF]({url})\")\n",
        "\n",
        "draw_control.on_draw(on_draw)\n"
      ]
    },
    {
      "cell_type": "markdown",
      "metadata": {
        "id": "YWyYnW0evWEr"
      },
      "source": [
        "## 🌀 Seasonality\n",
        "El dataset **Seasonality** muestra la **estacionalidad del agua superficial** indicando cuántos meses por año un área estuvo cubierta por agua entre **1984 y 2021**.\n",
        "\n",
        "- **12 meses:** Agua permanente todo el año.\n",
        "- **1 mes:** Agua estacional (solo presente algunos meses).\n",
        "- **Sin agua:** Regiones sin presencia de agua durante el período.\n",
        "- **Sin datos:** Áreas sin cobertura de datos.\n",
        "\n",
        "Es útil para entender la **variabilidad estacional** de los cuerpos de agua y planificar la **gestión de cuencas hidrográficas**.\n"
      ]
    },
    {
      "cell_type": "code",
      "execution_count": null,
      "metadata": {
        "colab": {
          "base_uri": "https://localhost:8080/",
          "height": 421,
          "referenced_widgets": [
            "5f1cd083219b45d6a0010236f7d43129",
            "48d66408e69046cb9abf1ec3e25e9fb7",
            "700032490b25417dbf3e13a08a1f51ba",
            "ceb6e748529a4f1dadd17a7906294b49",
            "6c747d9a2ba341269398b1e05aa6e3e8",
            "1c70260869b84a239a9d21ffaf12eb65",
            "8ea6ae154f134616af9ead9234b1a0a6",
            "f3ebc878e6a441c9bb7bb15ebb686ac0",
            "25edbba0d1164c808c97ef6c90a62918",
            "18860f5ef5f3440893fc5751fc664776",
            "edee9660507d4a4fbfafb12d4072cb9e"
          ]
        },
        "id": "dbZG8uHRuadQ",
        "outputId": "aa7a1a98-482b-4310-91a2-63ff72f6fa20"
      },
      "outputs": [],
      "source": [
        "dataset = ee.Image('JRC/GSW1_4/GlobalSurfaceWater').select('seasonality')\n",
        "\n",
        "m = Map(center=(9.144571, -74.634518), zoom=8, basemap=basemaps.CartoDB.Positron)\n",
        "m.add_layer(TileLayer(url=\"https://storage.googleapis.com/global-surface-water/tiles2021/seasonality/{z}/{x}/{y}.png\"))\n",
        "\n",
        "agregar_leyenda(m, \"Leyenda - Seasonality\", {\n",
        "    \"12 meses (Agua permanente)\": \"#0000AA\",\n",
        "    \"1 mes (Agua estacional)\": \"#99D9EA\",\n",
        "    \"Sin agua\": \"#FFFFFF\",\n",
        "    \"Sin datos\": \"#CCCCCC\"\n",
        "})\n",
        "\n",
        "draw_control = DrawControl()\n",
        "m.add_control(draw_control)\n",
        "display(m)\n",
        "\n",
        "def on_draw(target, action, geo_json):\n",
        "    coords = geo_json['geometry']['coordinates']\n",
        "    geometry = ee.Geometry.Polygon(coords)\n",
        "    clip = dataset.clip(geometry)\n",
        "\n",
        "    # Exportar a GeoTIFF\n",
        "    print(\"⏳ Generando enlace de descarga de GeoTIFF...\")\n",
        "    url = clip.getDownloadURL({\n",
        "        'scale': 30,\n",
        "        'crs': 'EPSG:4326',\n",
        "        'region': geometry.toGeoJSONString(),\n",
        "        'fileFormat': 'GeoTIFF'\n",
        "    })\n",
        "    print(f\"✅ Enlace generado: [Descargar GeoTIFF]({url})\")\n",
        "\n",
        "draw_control.on_draw(on_draw)\n"
      ]
    },
    {
      "cell_type": "markdown",
      "metadata": {
        "id": "FxaxzfAYvdRH"
      },
      "source": [
        "## 🔄 Recurrence\n",
        "El dataset **Recurrence** mide la **frecuencia con la que el agua reaparece** en el mismo lugar año tras año entre **1984 y 2021**.\n",
        "\n",
        "- **Alta recurrencia (100%):** Áreas con aparición constante de agua.\n",
        "- **Baja recurrencia (1%):** Regiones donde el agua aparece esporádicamente.\n",
        "- **Sin agua:** Áreas sin detección de agua.\n",
        "- **Sin datos:** Regiones sin cobertura de datos.\n",
        "\n",
        "Este producto permite identificar áreas con ciclos de agua bien definidos y planificar el **uso de recursos hídricos** en función de su predictibilidad.\n"
      ]
    },
    {
      "cell_type": "code",
      "execution_count": null,
      "metadata": {
        "colab": {
          "base_uri": "https://localhost:8080/",
          "height": 421,
          "referenced_widgets": [
            "361a15bf57a547cc90c48dda9b2a7616",
            "f70b9331f79f41129f148f20993f8471",
            "98dc34bdfb59425fa343c8573c167ceb",
            "5c28d346c5b146d4b4443123b5996be6",
            "a7805e33ed4242958f0e0da7d666d0b8",
            "d455ce53748f48f79dfe86c18e75b11b",
            "7b8616721c0a4f5c98179d372700ca64",
            "2463ccb452804860bd82481292875b9c",
            "dcd7956ec2314d2aba475911873c44a9",
            "b0d0bad1047342f496fcebf4e1cb7342",
            "da5dec73d6814b62ba1a2626f39c623a"
          ]
        },
        "id": "HQZdNr8Huc-6",
        "outputId": "a35c8be2-5129-47a3-a3d9-ad2a225e5de1"
      },
      "outputs": [],
      "source": [
        "dataset = ee.Image('JRC/GSW1_4/GlobalSurfaceWater').select('recurrence')\n",
        "\n",
        "m = Map(center=(9.144571, -74.634518), zoom=8, basemap=basemaps.CartoDB.Positron)\n",
        "m.add_layer(TileLayer(url=\"https://storage.googleapis.com/global-surface-water/tiles2021/recurrence/{z}/{x}/{y}.png\"))\n",
        "\n",
        "agregar_leyenda(m, \"Leyenda - Recurrence\", {\n",
        "    \"Alta recurrencia (100%)\": \"#99D9EA\",\n",
        "    \"Baja recurrencia (1%)\": \"#FF7F27\",\n",
        "    \"Sin agua\": \"#FFFFFF\",\n",
        "    \"Sin datos\": \"#CCCCCC\"\n",
        "})\n",
        "\n",
        "draw_control = DrawControl()\n",
        "m.add_control(draw_control)\n",
        "display(m)\n",
        "\n",
        "def on_draw(target, action, geo_json):\n",
        "    coords = geo_json['geometry']['coordinates']\n",
        "    geometry = ee.Geometry.Polygon(coords)\n",
        "    clip = dataset.clip(geometry)\n",
        "\n",
        "    # Exportar a GeoTIFF\n",
        "    print(\"⏳ Generando enlace de descarga de GeoTIFF...\")\n",
        "    url = clip.getDownloadURL({\n",
        "        'scale': 30,\n",
        "        'crs': 'EPSG:4326',\n",
        "        'region': geometry.toGeoJSONString(),\n",
        "        'fileFormat': 'GeoTIFF'\n",
        "    })\n",
        "    print(f\"✅ Enlace generado: [Descargar GeoTIFF]({url})\")\n",
        "\n",
        "draw_control.on_draw(on_draw)\n"
      ]
    },
    {
      "cell_type": "markdown",
      "metadata": {
        "id": "9dQsjoU4viEa"
      },
      "source": [
        "## 🔄 Transitions\n",
        "El dataset **Transitions** analiza los **cambios en los estados de agua superficial** entre **1984 y 2021**.\n",
        "\n",
        "- **Agua permanente:** Regiones que mantuvieron agua constante.\n",
        "- **Nueva agua permanente:** Áreas donde apareció agua de forma estable.\n",
        "- **Pérdida de agua permanente:** Regiones que dejaron de tener agua estable.\n",
        "- **Estacional a permanente:** Cambios de agua estacional a permanente.\n",
        "- **Ephemeral:** Agua que apareció temporalmente.\n",
        "\n",
        "Este producto es clave para comprender la **dinámica de los cuerpos de agua** y sus **transiciones** debido a fenómenos naturales y actividades humanas.\n"
      ]
    },
    {
      "cell_type": "code",
      "execution_count": null,
      "metadata": {
        "colab": {
          "base_uri": "https://localhost:8080/",
          "height": 421,
          "referenced_widgets": [
            "b129a6b762064c2fb53a7c9e3c5850f0",
            "5d6647c910224e8b8087c6b2230da82f",
            "8ae9ffeb4f5545d3a43f3f0b27b8fab0",
            "c96a362b5b664bf5b116ed56c2ae45f4",
            "f3f44d79bfcc424abeba3e37319ba45d",
            "71fc755a7e324acd91fe7793ee148888",
            "4c43a5f1703c400b80082843ac50d215",
            "a83e8b05a5f14fcea17ba4b08fd34b84",
            "44fc251a54274f51add946b6e73b4252",
            "a0543b6adeb94142851d6df55878ba0b",
            "66e57be047144b1597d68b231bee0411"
          ]
        },
        "id": "gDMkm5fBuf_2",
        "outputId": "438e2744-60ac-4760-d56c-3039be2ccaa0"
      },
      "outputs": [],
      "source": [
        "dataset = ee.Image('JRC/GSW1_4/GlobalSurfaceWater').select('transitions')\n",
        "\n",
        "m = Map(center=(9.144571, -74.634518), zoom=8, basemap=basemaps.CartoDB.Positron)\n",
        "m.add_layer(TileLayer(url=\"https://storage.googleapis.com/global-surface-water/tiles2021/transitions/{z}/{x}/{y}.png\"))\n",
        "\n",
        "agregar_leyenda(m, \"Leyenda - Transitions\", {\n",
        "    \"Agua permanente\": \"#0000FF\",\n",
        "    \"Nueva agua permanente\": \"#22B14C\",\n",
        "    \"Perdida de agua permanente\": \"#D1102D\",\n",
        "    \"Agua estacional\": \"#99D9EA\",\n",
        "    \"Nueva agua estacional\": \"#B5E61D\",\n",
        "    \"Perdida de agua estacional\": \"#E6A1AA\",\n",
        "    \"Estacional a permanente\": \"#FF7F27\",\n",
        "    \"Permanente a estacional\": \"#FFC90E\",\n",
        "    \"Ephemeral permanente\": \"#7F7F7F\",\n",
        "    \"Ephemeral estacional\": \"#C3C3C3\",\n",
        "    \"Sin agua\": \"#FFFFFF\",\n",
        "    \"Sin datos\": \"#CCCCCC\"\n",
        "})\n",
        "\n",
        "draw_control = DrawControl()\n",
        "m.add_control(draw_control)\n",
        "display(m)\n",
        "\n",
        "def on_draw(target, action, geo_json):\n",
        "    coords = geo_json['geometry']['coordinates']\n",
        "    geometry = ee.Geometry.Polygon(coords)\n",
        "    clip = dataset.clip(geometry)\n",
        "\n",
        "    # Exportar a GeoTIFF\n",
        "    print(\"⏳ Generando enlace de descarga de GeoTIFF...\")\n",
        "    url = clip.getDownloadURL({\n",
        "        'scale': 30,\n",
        "        'crs': 'EPSG:4326',\n",
        "        'region': geometry.toGeoJSONString(),\n",
        "        'fileFormat': 'GeoTIFF'\n",
        "    })\n",
        "    print(f\"✅ Enlace generado: [Descargar GeoTIFF]({url})\")\n",
        "\n",
        "draw_control.on_draw(on_draw)\n"
      ]
    },
    {
      "cell_type": "markdown",
      "metadata": {
        "id": "gjWkz-tHvkkN"
      },
      "source": [
        "## 📏 Maximum Water Extent\n",
        "El dataset **Maximum Water Extent** muestra el **área máxima cubierta por agua superficial** entre **1984 y 2021**.\n",
        "\n",
        "- **Agua detectada:** Áreas que alguna vez estuvieron cubiertas por agua.\n",
        "- **Sin agua:** Regiones donde no se detectó agua.\n",
        "- **Sin datos:** Áreas sin cobertura de datos.\n",
        "\n",
        "Este producto es esencial para mapear la **distribución espacial de los cuerpos de agua** y entender la **extensión máxima histórica** de inundaciones y lagos.\n"
      ]
    },
    {
      "cell_type": "code",
      "execution_count": null,
      "metadata": {
        "colab": {
          "base_uri": "https://localhost:8080/",
          "height": 421,
          "referenced_widgets": [
            "6b1c471701ff44b6ad9388d7a34906f6",
            "8573d911c3fd4a52961a03adc6f97593",
            "2c565f18416b40f2b537787b97e0aefe",
            "d94935b27dcf43658f9a9c8e05415e8a",
            "c94774d1c0e34daebf8cc6a54c8c2600",
            "75a1a90c2fa94f0d8d6f74288f659421",
            "4a45a5bc56d54f1baeb2d11d766b8ad0",
            "4eda98789fc84907a487ed9b24c5932b",
            "06c89513c4f346c1a81230c4a965808a",
            "0a97d5fb0f4d4734bc623038b0cc3c9d",
            "ba0f121439b34344814899661426f9e5"
          ]
        },
        "id": "10WsWkqnujKE",
        "outputId": "e08e11da-7ec6-4ae5-d585-2b605c2a4d38"
      },
      "outputs": [],
      "source": [
        "dataset = ee.Image('JRC/GSW1_4/GlobalSurfaceWater').select('max_extent')\n",
        "\n",
        "m = Map(center=(9.144571, -74.634518), zoom=8, basemap=basemaps.CartoDB.Positron)\n",
        "m.add_layer(TileLayer(url=\"https://storage.googleapis.com/global-surface-water/tiles2021/extent/{z}/{x}/{y}.png\"))\n",
        "\n",
        "agregar_leyenda(m, \"Leyenda - Maximum Water Extent\", {\n",
        "    \"Agua detectada\": \"#6666FF\",\n",
        "    \"Sin agua\": \"#FFFFFF\",\n",
        "    \"Sin datos\": \"#CCCCCC\"\n",
        "})\n",
        "\n",
        "draw_control = DrawControl()\n",
        "m.add_control(draw_control)\n",
        "display(m)\n",
        "\n",
        "def on_draw(target, action, geo_json):\n",
        "    coords = geo_json['geometry']['coordinates']\n",
        "    geometry = ee.Geometry.Polygon(coords)\n",
        "    clip = dataset.clip(geometry)\n",
        "\n",
        "    # Exportar a GeoTIFF\n",
        "    print(\"⏳ Generando enlace de descarga de GeoTIFF...\")\n",
        "    url = clip.getDownloadURL({\n",
        "        'scale': 30,\n",
        "        'crs': 'EPSG:4326',\n",
        "        'region': geometry.toGeoJSONString(),\n",
        "        'fileFormat': 'GeoTIFF'\n",
        "    })\n",
        "    print(f\"✅ Enlace generado: [Descargar GeoTIFF]({url})\")\n",
        "\n",
        "draw_control.on_draw(on_draw)\n"
      ]
    },
    {
      "cell_type": "markdown",
      "metadata": {
        "id": "a78ODmmto2bG"
      },
      "source": [
        "## Conclusión\n",
        "En este notebook aprendiste cómo autenticarte en Google Earth Engine, cargar y visualizar datos geoespaciales y descargar un área recortada en formato GeoTIFF.\n",
        "\n",
        "Para más información, visita la [documentación oficial de Google Earth Engine](https://developers.google.com/earth-engine/)."
      ]
    }
  ],
  "metadata": {
    "colab": {
      "provenance": []
    },
    "kernelspec": {
      "display_name": "appenv",
      "language": "python",
      "name": "python3"
    },
    "language_info": {
      "codemirror_mode": {
        "name": "ipython",
        "version": 3
      },
      "file_extension": ".py",
      "mimetype": "text/x-python",
      "name": "python",
      "nbconvert_exporter": "python",
      "pygments_lexer": "ipython3",
      "version": "3.13.2"
    },
    "widgets": {
      "application/vnd.jupyter.widget-state+json": {
        "0367849cb6074b52bbba78c70bdd3222": {
          "model_module": "jupyter-leaflet",
          "model_module_version": "^0.19",
          "model_name": "LeafletMapStyleModel",
          "state": {
            "_model_module": "jupyter-leaflet",
            "_model_module_version": "^0.19",
            "_model_name": "LeafletMapStyleModel",
            "_view_count": null,
            "_view_module": "@jupyter-widgets/base",
            "_view_module_version": "1.2.0",
            "_view_name": "StyleView",
            "cursor": "grab"
          }
        },
        "06c89513c4f346c1a81230c4a965808a": {
          "model_module": "jupyter-leaflet",
          "model_module_version": "^0.19",
          "model_name": "LeafletTileLayerModel",
          "state": {
            "_model_module": "jupyter-leaflet",
            "_model_module_version": "^0.19",
            "_model_name": "LeafletTileLayerModel",
            "_view_count": null,
            "_view_module": "jupyter-leaflet",
            "_view_module_version": "^0.19",
            "_view_name": "LeafletTileLayerView",
            "attribution": null,
            "base": false,
            "bottom": true,
            "bounds": null,
            "detect_retina": false,
            "loading": false,
            "max_native_zoom": null,
            "max_zoom": 18,
            "min_native_zoom": null,
            "min_zoom": 0,
            "name": "",
            "no_wrap": false,
            "opacity": 1,
            "options": [
              "attribution",
              "bounds",
              "detect_retina",
              "max_native_zoom",
              "max_zoom",
              "min_native_zoom",
              "min_zoom",
              "no_wrap",
              "tile_size",
              "tms",
              "zoom_offset"
            ],
            "pane": "",
            "popup": null,
            "popup_max_height": null,
            "popup_max_width": 300,
            "popup_min_width": 50,
            "show_loading": false,
            "subitems": [],
            "tile_size": 256,
            "tms": false,
            "url": "https://storage.googleapis.com/global-surface-water/tiles2021/extent/{z}/{x}/{y}.png",
            "visible": true,
            "zoom_offset": 0
          }
        },
        "0a97d5fb0f4d4734bc623038b0cc3c9d": {
          "model_module": "@jupyter-widgets/base",
          "model_module_version": "1.2.0",
          "model_name": "LayoutModel",
          "state": {
            "_model_module": "@jupyter-widgets/base",
            "_model_module_version": "1.2.0",
            "_model_name": "LayoutModel",
            "_view_count": null,
            "_view_module": "@jupyter-widgets/base",
            "_view_module_version": "1.2.0",
            "_view_name": "LayoutView",
            "align_content": null,
            "align_items": null,
            "align_self": null,
            "border": null,
            "bottom": null,
            "display": null,
            "flex": null,
            "flex_flow": null,
            "grid_area": null,
            "grid_auto_columns": null,
            "grid_auto_flow": null,
            "grid_auto_rows": null,
            "grid_column": null,
            "grid_gap": null,
            "grid_row": null,
            "grid_template_areas": null,
            "grid_template_columns": null,
            "grid_template_rows": null,
            "height": null,
            "justify_content": null,
            "justify_items": null,
            "left": null,
            "margin": null,
            "max_height": null,
            "max_width": null,
            "min_height": null,
            "min_width": null,
            "object_fit": null,
            "object_position": null,
            "order": null,
            "overflow": null,
            "overflow_x": null,
            "overflow_y": null,
            "padding": null,
            "right": null,
            "top": null,
            "visibility": null,
            "width": null
          }
        },
        "0f69795abeff48cfa7b76f98a96237e2": {
          "model_module": "jupyter-leaflet",
          "model_module_version": "^0.19",
          "model_name": "LeafletZoomControlModel",
          "state": {
            "_model_module": "jupyter-leaflet",
            "_model_module_version": "^0.19",
            "_model_name": "LeafletZoomControlModel",
            "_view_count": null,
            "_view_module": "jupyter-leaflet",
            "_view_module_version": "^0.19",
            "_view_name": "LeafletZoomControlView",
            "options": [
              "position",
              "zoom_in_text",
              "zoom_in_title",
              "zoom_out_text",
              "zoom_out_title"
            ],
            "position": "topleft",
            "zoom_in_text": "+",
            "zoom_in_title": "Zoom in",
            "zoom_out_text": "-",
            "zoom_out_title": "Zoom out"
          }
        },
        "18860f5ef5f3440893fc5751fc664776": {
          "model_module": "@jupyter-widgets/base",
          "model_module_version": "1.2.0",
          "model_name": "LayoutModel",
          "state": {
            "_model_module": "@jupyter-widgets/base",
            "_model_module_version": "1.2.0",
            "_model_name": "LayoutModel",
            "_view_count": null,
            "_view_module": "@jupyter-widgets/base",
            "_view_module_version": "1.2.0",
            "_view_name": "LayoutView",
            "align_content": null,
            "align_items": null,
            "align_self": null,
            "border": null,
            "bottom": null,
            "display": null,
            "flex": null,
            "flex_flow": null,
            "grid_area": null,
            "grid_auto_columns": null,
            "grid_auto_flow": null,
            "grid_auto_rows": null,
            "grid_column": null,
            "grid_gap": null,
            "grid_row": null,
            "grid_template_areas": null,
            "grid_template_columns": null,
            "grid_template_rows": null,
            "height": null,
            "justify_content": null,
            "justify_items": null,
            "left": null,
            "margin": null,
            "max_height": null,
            "max_width": null,
            "min_height": null,
            "min_width": null,
            "object_fit": null,
            "object_position": null,
            "order": null,
            "overflow": null,
            "overflow_x": null,
            "overflow_y": null,
            "padding": null,
            "right": null,
            "top": null,
            "visibility": null,
            "width": null
          }
        },
        "1c70260869b84a239a9d21ffaf12eb65": {
          "model_module": "jupyter-leaflet",
          "model_module_version": "^0.19",
          "model_name": "LeafletMapStyleModel",
          "state": {
            "_model_module": "jupyter-leaflet",
            "_model_module_version": "^0.19",
            "_model_name": "LeafletMapStyleModel",
            "_view_count": null,
            "_view_module": "@jupyter-widgets/base",
            "_view_module_version": "1.2.0",
            "_view_name": "StyleView",
            "cursor": "grab"
          }
        },
        "2463ccb452804860bd82481292875b9c": {
          "model_module": "jupyter-leaflet",
          "model_module_version": "^0.19",
          "model_name": "LeafletTileLayerModel",
          "state": {
            "_model_module": "jupyter-leaflet",
            "_model_module_version": "^0.19",
            "_model_name": "LeafletTileLayerModel",
            "_view_count": null,
            "_view_module": "jupyter-leaflet",
            "_view_module_version": "^0.19",
            "_view_name": "LeafletTileLayerView",
            "attribution": "&copy; <a href=\"https://www.openstreetmap.org/copyright\">OpenStreetMap</a> contributors &copy; <a href=\"https://carto.com/attributions\">CARTO</a>",
            "base": true,
            "bottom": true,
            "bounds": null,
            "detect_retina": false,
            "loading": false,
            "max_native_zoom": null,
            "max_zoom": 20,
            "min_native_zoom": null,
            "min_zoom": 1,
            "name": "CartoDB.Positron",
            "no_wrap": false,
            "opacity": 1,
            "options": [
              "attribution",
              "bounds",
              "detect_retina",
              "max_native_zoom",
              "max_zoom",
              "min_native_zoom",
              "min_zoom",
              "no_wrap",
              "tile_size",
              "tms",
              "zoom_offset"
            ],
            "pane": "",
            "popup": null,
            "popup_max_height": null,
            "popup_max_width": 300,
            "popup_min_width": 50,
            "show_loading": false,
            "subitems": [],
            "tile_size": 256,
            "tms": false,
            "url": "https://a.basemaps.cartocdn.com/light_all/{z}/{x}/{y}.png",
            "visible": true,
            "zoom_offset": 0
          }
        },
        "25edbba0d1164c808c97ef6c90a62918": {
          "model_module": "jupyter-leaflet",
          "model_module_version": "^0.19",
          "model_name": "LeafletTileLayerModel",
          "state": {
            "_model_module": "jupyter-leaflet",
            "_model_module_version": "^0.19",
            "_model_name": "LeafletTileLayerModel",
            "_view_count": null,
            "_view_module": "jupyter-leaflet",
            "_view_module_version": "^0.19",
            "_view_name": "LeafletTileLayerView",
            "attribution": null,
            "base": false,
            "bottom": true,
            "bounds": null,
            "detect_retina": false,
            "loading": false,
            "max_native_zoom": null,
            "max_zoom": 18,
            "min_native_zoom": null,
            "min_zoom": 0,
            "name": "",
            "no_wrap": false,
            "opacity": 1,
            "options": [
              "attribution",
              "bounds",
              "detect_retina",
              "max_native_zoom",
              "max_zoom",
              "min_native_zoom",
              "min_zoom",
              "no_wrap",
              "tile_size",
              "tms",
              "zoom_offset"
            ],
            "pane": "",
            "popup": null,
            "popup_max_height": null,
            "popup_max_width": 300,
            "popup_min_width": 50,
            "show_loading": false,
            "subitems": [],
            "tile_size": 256,
            "tms": false,
            "url": "https://storage.googleapis.com/global-surface-water/tiles2021/seasonality/{z}/{x}/{y}.png",
            "visible": true,
            "zoom_offset": 0
          }
        },
        "2af8fa35e8bf4fb583377e9d54bbcaac": {
          "model_module": "jupyter-leaflet",
          "model_module_version": "^0.19",
          "model_name": "LeafletMapStyleModel",
          "state": {
            "_model_module": "jupyter-leaflet",
            "_model_module_version": "^0.19",
            "_model_name": "LeafletMapStyleModel",
            "_view_count": null,
            "_view_module": "@jupyter-widgets/base",
            "_view_module_version": "1.2.0",
            "_view_name": "StyleView",
            "cursor": "grab"
          }
        },
        "2c565f18416b40f2b537787b97e0aefe": {
          "model_module": "jupyter-leaflet",
          "model_module_version": "^0.19",
          "model_name": "LeafletAttributionControlModel",
          "state": {
            "_model_module": "jupyter-leaflet",
            "_model_module_version": "^0.19",
            "_model_name": "LeafletAttributionControlModel",
            "_view_count": null,
            "_view_module": "jupyter-leaflet",
            "_view_module_version": "^0.19",
            "_view_name": "LeafletAttributionControlView",
            "options": [
              "position",
              "prefix"
            ],
            "position": "bottomright",
            "prefix": "ipyleaflet"
          }
        },
        "2dd24ac1e67c451195fc24525f7c4da1": {
          "model_module": "jupyter-leaflet",
          "model_module_version": "^0.19",
          "model_name": "LeafletMapModel",
          "state": {
            "_dom_classes": [],
            "_model_module": "jupyter-leaflet",
            "_model_module_version": "^0.19",
            "_model_name": "LeafletMapModel",
            "_view_count": null,
            "_view_module": "jupyter-leaflet",
            "_view_module_version": "^0.19",
            "_view_name": "LeafletMapView",
            "bottom": 31296,
            "bounce_at_zoom_limits": true,
            "box_zoom": true,
            "center": [
              9.144571,
              -74.634518
            ],
            "close_popup_on_click": true,
            "controls": [
              "IPY_MODEL_bf0752c14b29443f8c6171f1d23f1f09",
              "IPY_MODEL_3b6729dcc2b74f9b907985cf33174382",
              "IPY_MODEL_97ef8b47212e4ef397b8546e504037cd",
              "IPY_MODEL_a72ee31c044a4150b8e3898baeca3c65"
            ],
            "crs": {
              "custom": false,
              "name": "EPSG3857"
            },
            "default_style": "IPY_MODEL_2af8fa35e8bf4fb583377e9d54bbcaac",
            "double_click_zoom": true,
            "dragging": true,
            "dragging_style": "IPY_MODEL_df1d0d079d864b37968170cd81005e21",
            "east": -69.38964843750001,
            "fullscreen": false,
            "inertia": true,
            "inertia_deceleration": 3000,
            "inertia_max_speed": 1500,
            "interpolation": "bilinear",
            "keyboard": true,
            "keyboard_pan_offset": 80,
            "keyboard_zoom_offset": 1,
            "layers": [
              "IPY_MODEL_4e5e617778a348d88432ed0a0dfafbba",
              "IPY_MODEL_37d3b4df550d445594ab081b2ac68bbe"
            ],
            "layout": "IPY_MODEL_cc3201877a12453481c93b24617c2120",
            "left": 18226,
            "max_zoom": null,
            "min_zoom": null,
            "modisdate": "2025-03-02",
            "north": 10.228437266155955,
            "options": [
              "bounce_at_zoom_limits",
              "box_zoom",
              "center",
              "close_popup_on_click",
              "double_click_zoom",
              "dragging",
              "fullscreen",
              "inertia",
              "inertia_deceleration",
              "inertia_max_speed",
              "interpolation",
              "keyboard",
              "keyboard_pan_offset",
              "keyboard_zoom_offset",
              "max_zoom",
              "min_zoom",
              "prefer_canvas",
              "scroll_wheel_zoom",
              "tap",
              "tap_tolerance",
              "touch_zoom",
              "world_copy_jump",
              "zoom",
              "zoom_animation_threshold",
              "zoom_delta",
              "zoom_snap"
            ],
            "panes": {},
            "prefer_canvas": false,
            "right": 20136,
            "scroll_wheel_zoom": false,
            "south": 8.059229627200192,
            "style": "IPY_MODEL_5a487925bedf4fbea67bea0c8ceac13a",
            "tap": true,
            "tap_tolerance": 15,
            "top": 30896,
            "touch_zoom": true,
            "west": -79.88159179687501,
            "window_url": "https://ld0c0czqsij-496ff2e9c6d22116-0-colab.googleusercontent.com/outputframe.html?vrz=colab_20250228-060212_RC00_732100514",
            "world_copy_jump": false,
            "zoom": 8,
            "zoom_animation_threshold": 4,
            "zoom_delta": 1,
            "zoom_snap": 1
          }
        },
        "361a15bf57a547cc90c48dda9b2a7616": {
          "model_module": "jupyter-leaflet",
          "model_module_version": "^0.19",
          "model_name": "LeafletMapModel",
          "state": {
            "_dom_classes": [],
            "_model_module": "jupyter-leaflet",
            "_model_module_version": "^0.19",
            "_model_name": "LeafletMapModel",
            "_view_count": null,
            "_view_module": "jupyter-leaflet",
            "_view_module_version": "^0.19",
            "_view_name": "LeafletMapView",
            "bottom": 31296,
            "bounce_at_zoom_limits": true,
            "box_zoom": true,
            "center": [
              9.144571,
              -74.634518
            ],
            "close_popup_on_click": true,
            "controls": [
              "IPY_MODEL_f70b9331f79f41129f148f20993f8471",
              "IPY_MODEL_98dc34bdfb59425fa343c8573c167ceb",
              "IPY_MODEL_5c28d346c5b146d4b4443123b5996be6",
              "IPY_MODEL_a7805e33ed4242958f0e0da7d666d0b8"
            ],
            "crs": {
              "custom": false,
              "name": "EPSG3857"
            },
            "default_style": "IPY_MODEL_d455ce53748f48f79dfe86c18e75b11b",
            "double_click_zoom": true,
            "dragging": true,
            "dragging_style": "IPY_MODEL_7b8616721c0a4f5c98179d372700ca64",
            "east": -69.38964843750001,
            "fullscreen": false,
            "inertia": true,
            "inertia_deceleration": 3000,
            "inertia_max_speed": 1500,
            "interpolation": "bilinear",
            "keyboard": true,
            "keyboard_pan_offset": 80,
            "keyboard_zoom_offset": 1,
            "layers": [
              "IPY_MODEL_2463ccb452804860bd82481292875b9c",
              "IPY_MODEL_dcd7956ec2314d2aba475911873c44a9"
            ],
            "layout": "IPY_MODEL_b0d0bad1047342f496fcebf4e1cb7342",
            "left": 18226,
            "max_zoom": null,
            "min_zoom": null,
            "modisdate": "2025-03-02",
            "north": 10.228437266155955,
            "options": [
              "bounce_at_zoom_limits",
              "box_zoom",
              "center",
              "close_popup_on_click",
              "double_click_zoom",
              "dragging",
              "fullscreen",
              "inertia",
              "inertia_deceleration",
              "inertia_max_speed",
              "interpolation",
              "keyboard",
              "keyboard_pan_offset",
              "keyboard_zoom_offset",
              "max_zoom",
              "min_zoom",
              "prefer_canvas",
              "scroll_wheel_zoom",
              "tap",
              "tap_tolerance",
              "touch_zoom",
              "world_copy_jump",
              "zoom",
              "zoom_animation_threshold",
              "zoom_delta",
              "zoom_snap"
            ],
            "panes": {},
            "prefer_canvas": false,
            "right": 20136,
            "scroll_wheel_zoom": false,
            "south": 8.059229627200192,
            "style": "IPY_MODEL_da5dec73d6814b62ba1a2626f39c623a",
            "tap": true,
            "tap_tolerance": 15,
            "top": 30896,
            "touch_zoom": true,
            "west": -79.88159179687501,
            "window_url": "https://ld0c0czqsij-496ff2e9c6d22116-0-colab.googleusercontent.com/outputframe.html?vrz=colab_20250228-060212_RC00_732100514",
            "world_copy_jump": false,
            "zoom": 8,
            "zoom_animation_threshold": 4,
            "zoom_delta": 1,
            "zoom_snap": 1
          }
        },
        "37d3b4df550d445594ab081b2ac68bbe": {
          "model_module": "jupyter-leaflet",
          "model_module_version": "^0.19",
          "model_name": "LeafletTileLayerModel",
          "state": {
            "_model_module": "jupyter-leaflet",
            "_model_module_version": "^0.19",
            "_model_name": "LeafletTileLayerModel",
            "_view_count": null,
            "_view_module": "jupyter-leaflet",
            "_view_module_version": "^0.19",
            "_view_name": "LeafletTileLayerView",
            "attribution": null,
            "base": false,
            "bottom": true,
            "bounds": null,
            "detect_retina": false,
            "loading": false,
            "max_native_zoom": null,
            "max_zoom": 18,
            "min_native_zoom": null,
            "min_zoom": 0,
            "name": "",
            "no_wrap": false,
            "opacity": 1,
            "options": [
              "attribution",
              "bounds",
              "detect_retina",
              "max_native_zoom",
              "max_zoom",
              "min_native_zoom",
              "min_zoom",
              "no_wrap",
              "tile_size",
              "tms",
              "zoom_offset"
            ],
            "pane": "",
            "popup": null,
            "popup_max_height": null,
            "popup_max_width": 300,
            "popup_min_width": 50,
            "show_loading": false,
            "subitems": [],
            "tile_size": 256,
            "tms": false,
            "url": "https://storage.googleapis.com/global-surface-water/tiles2021/change/{z}/{x}/{y}.png",
            "visible": true,
            "zoom_offset": 0
          }
        },
        "3b6729dcc2b74f9b907985cf33174382": {
          "model_module": "jupyter-leaflet",
          "model_module_version": "^0.19",
          "model_name": "LeafletAttributionControlModel",
          "state": {
            "_model_module": "jupyter-leaflet",
            "_model_module_version": "^0.19",
            "_model_name": "LeafletAttributionControlModel",
            "_view_count": null,
            "_view_module": "jupyter-leaflet",
            "_view_module_version": "^0.19",
            "_view_name": "LeafletAttributionControlView",
            "options": [
              "position",
              "prefix"
            ],
            "position": "bottomright",
            "prefix": "ipyleaflet"
          }
        },
        "44fc251a54274f51add946b6e73b4252": {
          "model_module": "jupyter-leaflet",
          "model_module_version": "^0.19",
          "model_name": "LeafletTileLayerModel",
          "state": {
            "_model_module": "jupyter-leaflet",
            "_model_module_version": "^0.19",
            "_model_name": "LeafletTileLayerModel",
            "_view_count": null,
            "_view_module": "jupyter-leaflet",
            "_view_module_version": "^0.19",
            "_view_name": "LeafletTileLayerView",
            "attribution": null,
            "base": false,
            "bottom": true,
            "bounds": null,
            "detect_retina": false,
            "loading": false,
            "max_native_zoom": null,
            "max_zoom": 18,
            "min_native_zoom": null,
            "min_zoom": 0,
            "name": "",
            "no_wrap": false,
            "opacity": 1,
            "options": [
              "attribution",
              "bounds",
              "detect_retina",
              "max_native_zoom",
              "max_zoom",
              "min_native_zoom",
              "min_zoom",
              "no_wrap",
              "tile_size",
              "tms",
              "zoom_offset"
            ],
            "pane": "",
            "popup": null,
            "popup_max_height": null,
            "popup_max_width": 300,
            "popup_min_width": 50,
            "show_loading": false,
            "subitems": [],
            "tile_size": 256,
            "tms": false,
            "url": "https://storage.googleapis.com/global-surface-water/tiles2021/transitions/{z}/{x}/{y}.png",
            "visible": true,
            "zoom_offset": 0
          }
        },
        "48d66408e69046cb9abf1ec3e25e9fb7": {
          "model_module": "jupyter-leaflet",
          "model_module_version": "^0.19",
          "model_name": "LeafletZoomControlModel",
          "state": {
            "_model_module": "jupyter-leaflet",
            "_model_module_version": "^0.19",
            "_model_name": "LeafletZoomControlModel",
            "_view_count": null,
            "_view_module": "jupyter-leaflet",
            "_view_module_version": "^0.19",
            "_view_name": "LeafletZoomControlView",
            "options": [
              "position",
              "zoom_in_text",
              "zoom_in_title",
              "zoom_out_text",
              "zoom_out_title"
            ],
            "position": "topleft",
            "zoom_in_text": "+",
            "zoom_in_title": "Zoom in",
            "zoom_out_text": "-",
            "zoom_out_title": "Zoom out"
          }
        },
        "4a45a5bc56d54f1baeb2d11d766b8ad0": {
          "model_module": "jupyter-leaflet",
          "model_module_version": "^0.19",
          "model_name": "LeafletMapStyleModel",
          "state": {
            "_model_module": "jupyter-leaflet",
            "_model_module_version": "^0.19",
            "_model_name": "LeafletMapStyleModel",
            "_view_count": null,
            "_view_module": "@jupyter-widgets/base",
            "_view_module_version": "1.2.0",
            "_view_name": "StyleView",
            "cursor": "move"
          }
        },
        "4c43a5f1703c400b80082843ac50d215": {
          "model_module": "jupyter-leaflet",
          "model_module_version": "^0.19",
          "model_name": "LeafletMapStyleModel",
          "state": {
            "_model_module": "jupyter-leaflet",
            "_model_module_version": "^0.19",
            "_model_name": "LeafletMapStyleModel",
            "_view_count": null,
            "_view_module": "@jupyter-widgets/base",
            "_view_module_version": "1.2.0",
            "_view_name": "StyleView",
            "cursor": "move"
          }
        },
        "4e5e617778a348d88432ed0a0dfafbba": {
          "model_module": "jupyter-leaflet",
          "model_module_version": "^0.19",
          "model_name": "LeafletTileLayerModel",
          "state": {
            "_model_module": "jupyter-leaflet",
            "_model_module_version": "^0.19",
            "_model_name": "LeafletTileLayerModel",
            "_view_count": null,
            "_view_module": "jupyter-leaflet",
            "_view_module_version": "^0.19",
            "_view_name": "LeafletTileLayerView",
            "attribution": "&copy; <a href=\"https://www.openstreetmap.org/copyright\">OpenStreetMap</a> contributors &copy; <a href=\"https://carto.com/attributions\">CARTO</a>",
            "base": true,
            "bottom": true,
            "bounds": null,
            "detect_retina": false,
            "loading": false,
            "max_native_zoom": null,
            "max_zoom": 20,
            "min_native_zoom": null,
            "min_zoom": 1,
            "name": "CartoDB.Positron",
            "no_wrap": false,
            "opacity": 1,
            "options": [
              "attribution",
              "bounds",
              "detect_retina",
              "max_native_zoom",
              "max_zoom",
              "min_native_zoom",
              "min_zoom",
              "no_wrap",
              "tile_size",
              "tms",
              "zoom_offset"
            ],
            "pane": "",
            "popup": null,
            "popup_max_height": null,
            "popup_max_width": 300,
            "popup_min_width": 50,
            "show_loading": false,
            "subitems": [],
            "tile_size": 256,
            "tms": false,
            "url": "https://a.basemaps.cartocdn.com/light_all/{z}/{x}/{y}.png",
            "visible": true,
            "zoom_offset": 0
          }
        },
        "4eda98789fc84907a487ed9b24c5932b": {
          "model_module": "jupyter-leaflet",
          "model_module_version": "^0.19",
          "model_name": "LeafletTileLayerModel",
          "state": {
            "_model_module": "jupyter-leaflet",
            "_model_module_version": "^0.19",
            "_model_name": "LeafletTileLayerModel",
            "_view_count": null,
            "_view_module": "jupyter-leaflet",
            "_view_module_version": "^0.19",
            "_view_name": "LeafletTileLayerView",
            "attribution": "&copy; <a href=\"https://www.openstreetmap.org/copyright\">OpenStreetMap</a> contributors &copy; <a href=\"https://carto.com/attributions\">CARTO</a>",
            "base": true,
            "bottom": true,
            "bounds": null,
            "detect_retina": false,
            "loading": false,
            "max_native_zoom": null,
            "max_zoom": 20,
            "min_native_zoom": null,
            "min_zoom": 1,
            "name": "CartoDB.Positron",
            "no_wrap": false,
            "opacity": 1,
            "options": [
              "attribution",
              "bounds",
              "detect_retina",
              "max_native_zoom",
              "max_zoom",
              "min_native_zoom",
              "min_zoom",
              "no_wrap",
              "tile_size",
              "tms",
              "zoom_offset"
            ],
            "pane": "",
            "popup": null,
            "popup_max_height": null,
            "popup_max_width": 300,
            "popup_min_width": 50,
            "show_loading": false,
            "subitems": [],
            "tile_size": 256,
            "tms": false,
            "url": "https://a.basemaps.cartocdn.com/light_all/{z}/{x}/{y}.png",
            "visible": true,
            "zoom_offset": 0
          }
        },
        "5a487925bedf4fbea67bea0c8ceac13a": {
          "model_module": "jupyter-leaflet",
          "model_module_version": "^0.19",
          "model_name": "LeafletMapStyleModel",
          "state": {
            "_model_module": "jupyter-leaflet",
            "_model_module_version": "^0.19",
            "_model_name": "LeafletMapStyleModel",
            "_view_count": null,
            "_view_module": "@jupyter-widgets/base",
            "_view_module_version": "1.2.0",
            "_view_name": "StyleView",
            "cursor": "grab"
          }
        },
        "5c28d346c5b146d4b4443123b5996be6": {
          "model_module": "jupyter-leaflet",
          "model_module_version": "^0.19",
          "model_name": "LeafletLegendControlModel",
          "state": {
            "_model_module": "jupyter-leaflet",
            "_model_module_version": "^0.19",
            "_model_name": "LeafletLegendControlModel",
            "_view_count": null,
            "_view_module": "jupyter-leaflet",
            "_view_module_version": "^0.19",
            "_view_name": "LeafletLegendControlView",
            "legend": {
              "Alta recurrencia (100%)": "#99D9EA",
              "Baja recurrencia (1%)": "#FF7F27",
              "Sin agua": "#FFFFFF",
              "Sin datos": "#CCCCCC"
            },
            "options": [
              "position"
            ],
            "position": "bottomright",
            "title": "Leyenda - Recurrence"
          }
        },
        "5d6647c910224e8b8087c6b2230da82f": {
          "model_module": "jupyter-leaflet",
          "model_module_version": "^0.19",
          "model_name": "LeafletZoomControlModel",
          "state": {
            "_model_module": "jupyter-leaflet",
            "_model_module_version": "^0.19",
            "_model_name": "LeafletZoomControlModel",
            "_view_count": null,
            "_view_module": "jupyter-leaflet",
            "_view_module_version": "^0.19",
            "_view_name": "LeafletZoomControlView",
            "options": [
              "position",
              "zoom_in_text",
              "zoom_in_title",
              "zoom_out_text",
              "zoom_out_title"
            ],
            "position": "topleft",
            "zoom_in_text": "+",
            "zoom_in_title": "Zoom in",
            "zoom_out_text": "-",
            "zoom_out_title": "Zoom out"
          }
        },
        "5f1cd083219b45d6a0010236f7d43129": {
          "model_module": "jupyter-leaflet",
          "model_module_version": "^0.19",
          "model_name": "LeafletMapModel",
          "state": {
            "_dom_classes": [],
            "_model_module": "jupyter-leaflet",
            "_model_module_version": "^0.19",
            "_model_name": "LeafletMapModel",
            "_view_count": null,
            "_view_module": "jupyter-leaflet",
            "_view_module_version": "^0.19",
            "_view_name": "LeafletMapView",
            "bottom": 31296,
            "bounce_at_zoom_limits": true,
            "box_zoom": true,
            "center": [
              9.144571,
              -74.634518
            ],
            "close_popup_on_click": true,
            "controls": [
              "IPY_MODEL_48d66408e69046cb9abf1ec3e25e9fb7",
              "IPY_MODEL_700032490b25417dbf3e13a08a1f51ba",
              "IPY_MODEL_ceb6e748529a4f1dadd17a7906294b49",
              "IPY_MODEL_6c747d9a2ba341269398b1e05aa6e3e8"
            ],
            "crs": {
              "custom": false,
              "name": "EPSG3857"
            },
            "default_style": "IPY_MODEL_1c70260869b84a239a9d21ffaf12eb65",
            "double_click_zoom": true,
            "dragging": true,
            "dragging_style": "IPY_MODEL_8ea6ae154f134616af9ead9234b1a0a6",
            "east": -69.38964843750001,
            "fullscreen": false,
            "inertia": true,
            "inertia_deceleration": 3000,
            "inertia_max_speed": 1500,
            "interpolation": "bilinear",
            "keyboard": true,
            "keyboard_pan_offset": 80,
            "keyboard_zoom_offset": 1,
            "layers": [
              "IPY_MODEL_f3ebc878e6a441c9bb7bb15ebb686ac0",
              "IPY_MODEL_25edbba0d1164c808c97ef6c90a62918"
            ],
            "layout": "IPY_MODEL_18860f5ef5f3440893fc5751fc664776",
            "left": 18226,
            "max_zoom": null,
            "min_zoom": null,
            "modisdate": "2025-03-02",
            "north": 10.228437266155955,
            "options": [
              "bounce_at_zoom_limits",
              "box_zoom",
              "center",
              "close_popup_on_click",
              "double_click_zoom",
              "dragging",
              "fullscreen",
              "inertia",
              "inertia_deceleration",
              "inertia_max_speed",
              "interpolation",
              "keyboard",
              "keyboard_pan_offset",
              "keyboard_zoom_offset",
              "max_zoom",
              "min_zoom",
              "prefer_canvas",
              "scroll_wheel_zoom",
              "tap",
              "tap_tolerance",
              "touch_zoom",
              "world_copy_jump",
              "zoom",
              "zoom_animation_threshold",
              "zoom_delta",
              "zoom_snap"
            ],
            "panes": {},
            "prefer_canvas": false,
            "right": 20136,
            "scroll_wheel_zoom": false,
            "south": 8.059229627200192,
            "style": "IPY_MODEL_edee9660507d4a4fbfafb12d4072cb9e",
            "tap": true,
            "tap_tolerance": 15,
            "top": 30896,
            "touch_zoom": true,
            "west": -79.88159179687501,
            "window_url": "https://ld0c0czqsij-496ff2e9c6d22116-0-colab.googleusercontent.com/outputframe.html?vrz=colab_20250228-060212_RC00_732100514",
            "world_copy_jump": false,
            "zoom": 8,
            "zoom_animation_threshold": 4,
            "zoom_delta": 1,
            "zoom_snap": 1
          }
        },
        "620fa3c90ecc4b28ae2b9c6b0741e531": {
          "model_module": "jupyter-leaflet",
          "model_module_version": "^0.19",
          "model_name": "LeafletAttributionControlModel",
          "state": {
            "_model_module": "jupyter-leaflet",
            "_model_module_version": "^0.19",
            "_model_name": "LeafletAttributionControlModel",
            "_view_count": null,
            "_view_module": "jupyter-leaflet",
            "_view_module_version": "^0.19",
            "_view_name": "LeafletAttributionControlView",
            "options": [
              "position",
              "prefix"
            ],
            "position": "bottomright",
            "prefix": "ipyleaflet"
          }
        },
        "63a11e7a84c7468495485e7de5cd1ec5": {
          "model_module": "jupyter-leaflet",
          "model_module_version": "^0.19",
          "model_name": "LeafletLegendControlModel",
          "state": {
            "_model_module": "jupyter-leaflet",
            "_model_module_version": "^0.19",
            "_model_name": "LeafletLegendControlModel",
            "_view_count": null,
            "_view_module": "jupyter-leaflet",
            "_view_module_version": "^0.19",
            "_view_name": "LeafletLegendControlView",
            "legend": {
              "Agua intermitente (1%-99%)": "#FF0000",
              "Agua permanente (100%)": "#0000FF",
              "Sin agua": "#FFFFFF",
              "Sin datos": "#CCCCCC"
            },
            "options": [
              "position"
            ],
            "position": "bottomright",
            "title": "Leyenda - Water Occurrence"
          }
        },
        "649bbad8198e4d0cb4d4864a8e9dcebe": {
          "model_module": "jupyter-leaflet",
          "model_module_version": "^0.19",
          "model_name": "LeafletDrawControlModel",
          "state": {
            "_model_module": "jupyter-leaflet",
            "_model_module_version": "^0.19",
            "_model_name": "LeafletDrawControlModel",
            "_view_count": null,
            "_view_module": "jupyter-leaflet",
            "_view_module_version": "^0.19",
            "_view_name": "LeafletDrawControlView",
            "circle": {},
            "circlemarker": {
              "shapeOptions": {}
            },
            "data": [
              {
                "geometry": {
                  "coordinates": [
                    [
                      [
                        -74.837523,
                        9.118198
                      ],
                      [
                        -74.81005,
                        8.950016
                      ],
                      [
                        -74.656203,
                        8.966295
                      ],
                      [
                        -74.63972,
                        9.15074
                      ],
                      [
                        -74.837523,
                        9.118198
                      ]
                    ]
                  ],
                  "type": "Polygon"
                },
                "properties": {
                  "style": {
                    "clickable": true,
                    "color": "#3388ff",
                    "fill": true,
                    "fillColor": null,
                    "fillOpacity": 0.2,
                    "opacity": 0.5,
                    "stroke": true,
                    "weight": 4
                  }
                },
                "type": "Feature"
              }
            ],
            "edit": true,
            "marker": {},
            "options": [
              "position"
            ],
            "polygon": {
              "shapeOptions": {}
            },
            "polyline": {
              "shapeOptions": {}
            },
            "position": "topleft",
            "rectangle": {},
            "remove": true
          }
        },
        "66e57be047144b1597d68b231bee0411": {
          "model_module": "jupyter-leaflet",
          "model_module_version": "^0.19",
          "model_name": "LeafletMapStyleModel",
          "state": {
            "_model_module": "jupyter-leaflet",
            "_model_module_version": "^0.19",
            "_model_name": "LeafletMapStyleModel",
            "_view_count": null,
            "_view_module": "@jupyter-widgets/base",
            "_view_module_version": "1.2.0",
            "_view_name": "StyleView",
            "cursor": "grab"
          }
        },
        "6b1c471701ff44b6ad9388d7a34906f6": {
          "model_module": "jupyter-leaflet",
          "model_module_version": "^0.19",
          "model_name": "LeafletMapModel",
          "state": {
            "_dom_classes": [],
            "_model_module": "jupyter-leaflet",
            "_model_module_version": "^0.19",
            "_model_name": "LeafletMapModel",
            "_view_count": null,
            "_view_module": "jupyter-leaflet",
            "_view_module_version": "^0.19",
            "_view_name": "LeafletMapView",
            "bottom": 31296,
            "bounce_at_zoom_limits": true,
            "box_zoom": true,
            "center": [
              9.144571,
              -74.634518
            ],
            "close_popup_on_click": true,
            "controls": [
              "IPY_MODEL_8573d911c3fd4a52961a03adc6f97593",
              "IPY_MODEL_2c565f18416b40f2b537787b97e0aefe",
              "IPY_MODEL_d94935b27dcf43658f9a9c8e05415e8a",
              "IPY_MODEL_c94774d1c0e34daebf8cc6a54c8c2600"
            ],
            "crs": {
              "custom": false,
              "name": "EPSG3857"
            },
            "default_style": "IPY_MODEL_75a1a90c2fa94f0d8d6f74288f659421",
            "double_click_zoom": true,
            "dragging": true,
            "dragging_style": "IPY_MODEL_4a45a5bc56d54f1baeb2d11d766b8ad0",
            "east": -69.38964843750001,
            "fullscreen": false,
            "inertia": true,
            "inertia_deceleration": 3000,
            "inertia_max_speed": 1500,
            "interpolation": "bilinear",
            "keyboard": true,
            "keyboard_pan_offset": 80,
            "keyboard_zoom_offset": 1,
            "layers": [
              "IPY_MODEL_4eda98789fc84907a487ed9b24c5932b",
              "IPY_MODEL_06c89513c4f346c1a81230c4a965808a"
            ],
            "layout": "IPY_MODEL_0a97d5fb0f4d4734bc623038b0cc3c9d",
            "left": 18226,
            "max_zoom": null,
            "min_zoom": null,
            "modisdate": "2025-03-02",
            "north": 10.228437266155955,
            "options": [
              "bounce_at_zoom_limits",
              "box_zoom",
              "center",
              "close_popup_on_click",
              "double_click_zoom",
              "dragging",
              "fullscreen",
              "inertia",
              "inertia_deceleration",
              "inertia_max_speed",
              "interpolation",
              "keyboard",
              "keyboard_pan_offset",
              "keyboard_zoom_offset",
              "max_zoom",
              "min_zoom",
              "prefer_canvas",
              "scroll_wheel_zoom",
              "tap",
              "tap_tolerance",
              "touch_zoom",
              "world_copy_jump",
              "zoom",
              "zoom_animation_threshold",
              "zoom_delta",
              "zoom_snap"
            ],
            "panes": {},
            "prefer_canvas": false,
            "right": 20136,
            "scroll_wheel_zoom": false,
            "south": 8.059229627200192,
            "style": "IPY_MODEL_ba0f121439b34344814899661426f9e5",
            "tap": true,
            "tap_tolerance": 15,
            "top": 30896,
            "touch_zoom": true,
            "west": -79.88159179687501,
            "window_url": "https://ld0c0czqsij-496ff2e9c6d22116-0-colab.googleusercontent.com/outputframe.html?vrz=colab_20250228-060212_RC00_732100514",
            "world_copy_jump": false,
            "zoom": 8,
            "zoom_animation_threshold": 4,
            "zoom_delta": 1,
            "zoom_snap": 1
          }
        },
        "6c747d9a2ba341269398b1e05aa6e3e8": {
          "model_module": "jupyter-leaflet",
          "model_module_version": "^0.19",
          "model_name": "LeafletDrawControlModel",
          "state": {
            "_model_module": "jupyter-leaflet",
            "_model_module_version": "^0.19",
            "_model_name": "LeafletDrawControlModel",
            "_view_count": null,
            "_view_module": "jupyter-leaflet",
            "_view_module_version": "^0.19",
            "_view_name": "LeafletDrawControlView",
            "circle": {},
            "circlemarker": {
              "shapeOptions": {}
            },
            "data": [],
            "edit": true,
            "marker": {},
            "options": [
              "position"
            ],
            "polygon": {
              "shapeOptions": {}
            },
            "polyline": {
              "shapeOptions": {}
            },
            "position": "topleft",
            "rectangle": {},
            "remove": true
          }
        },
        "700032490b25417dbf3e13a08a1f51ba": {
          "model_module": "jupyter-leaflet",
          "model_module_version": "^0.19",
          "model_name": "LeafletAttributionControlModel",
          "state": {
            "_model_module": "jupyter-leaflet",
            "_model_module_version": "^0.19",
            "_model_name": "LeafletAttributionControlModel",
            "_view_count": null,
            "_view_module": "jupyter-leaflet",
            "_view_module_version": "^0.19",
            "_view_name": "LeafletAttributionControlView",
            "options": [
              "position",
              "prefix"
            ],
            "position": "bottomright",
            "prefix": "ipyleaflet"
          }
        },
        "71fc755a7e324acd91fe7793ee148888": {
          "model_module": "jupyter-leaflet",
          "model_module_version": "^0.19",
          "model_name": "LeafletMapStyleModel",
          "state": {
            "_model_module": "jupyter-leaflet",
            "_model_module_version": "^0.19",
            "_model_name": "LeafletMapStyleModel",
            "_view_count": null,
            "_view_module": "@jupyter-widgets/base",
            "_view_module_version": "1.2.0",
            "_view_name": "StyleView",
            "cursor": "grab"
          }
        },
        "75a1a90c2fa94f0d8d6f74288f659421": {
          "model_module": "jupyter-leaflet",
          "model_module_version": "^0.19",
          "model_name": "LeafletMapStyleModel",
          "state": {
            "_model_module": "jupyter-leaflet",
            "_model_module_version": "^0.19",
            "_model_name": "LeafletMapStyleModel",
            "_view_count": null,
            "_view_module": "@jupyter-widgets/base",
            "_view_module_version": "1.2.0",
            "_view_name": "StyleView",
            "cursor": "grab"
          }
        },
        "7b8616721c0a4f5c98179d372700ca64": {
          "model_module": "jupyter-leaflet",
          "model_module_version": "^0.19",
          "model_name": "LeafletMapStyleModel",
          "state": {
            "_model_module": "jupyter-leaflet",
            "_model_module_version": "^0.19",
            "_model_name": "LeafletMapStyleModel",
            "_view_count": null,
            "_view_module": "@jupyter-widgets/base",
            "_view_module_version": "1.2.0",
            "_view_name": "StyleView",
            "cursor": "move"
          }
        },
        "8174a4314dd947f28ed9fa3333b37b7b": {
          "model_module": "jupyter-leaflet",
          "model_module_version": "^0.19",
          "model_name": "LeafletMapStyleModel",
          "state": {
            "_model_module": "jupyter-leaflet",
            "_model_module_version": "^0.19",
            "_model_name": "LeafletMapStyleModel",
            "_view_count": null,
            "_view_module": "@jupyter-widgets/base",
            "_view_module_version": "1.2.0",
            "_view_name": "StyleView",
            "cursor": "move"
          }
        },
        "8573d911c3fd4a52961a03adc6f97593": {
          "model_module": "jupyter-leaflet",
          "model_module_version": "^0.19",
          "model_name": "LeafletZoomControlModel",
          "state": {
            "_model_module": "jupyter-leaflet",
            "_model_module_version": "^0.19",
            "_model_name": "LeafletZoomControlModel",
            "_view_count": null,
            "_view_module": "jupyter-leaflet",
            "_view_module_version": "^0.19",
            "_view_name": "LeafletZoomControlView",
            "options": [
              "position",
              "zoom_in_text",
              "zoom_in_title",
              "zoom_out_text",
              "zoom_out_title"
            ],
            "position": "topleft",
            "zoom_in_text": "+",
            "zoom_in_title": "Zoom in",
            "zoom_out_text": "-",
            "zoom_out_title": "Zoom out"
          }
        },
        "8ae9ffeb4f5545d3a43f3f0b27b8fab0": {
          "model_module": "jupyter-leaflet",
          "model_module_version": "^0.19",
          "model_name": "LeafletAttributionControlModel",
          "state": {
            "_model_module": "jupyter-leaflet",
            "_model_module_version": "^0.19",
            "_model_name": "LeafletAttributionControlModel",
            "_view_count": null,
            "_view_module": "jupyter-leaflet",
            "_view_module_version": "^0.19",
            "_view_name": "LeafletAttributionControlView",
            "options": [
              "position",
              "prefix"
            ],
            "position": "bottomright",
            "prefix": "ipyleaflet"
          }
        },
        "8ea6ae154f134616af9ead9234b1a0a6": {
          "model_module": "jupyter-leaflet",
          "model_module_version": "^0.19",
          "model_name": "LeafletMapStyleModel",
          "state": {
            "_model_module": "jupyter-leaflet",
            "_model_module_version": "^0.19",
            "_model_name": "LeafletMapStyleModel",
            "_view_count": null,
            "_view_module": "@jupyter-widgets/base",
            "_view_module_version": "1.2.0",
            "_view_name": "StyleView",
            "cursor": "move"
          }
        },
        "9410e181600d420ab6894a1cf3cebc34": {
          "model_module": "@jupyter-widgets/base",
          "model_module_version": "1.2.0",
          "model_name": "LayoutModel",
          "state": {
            "_model_module": "@jupyter-widgets/base",
            "_model_module_version": "1.2.0",
            "_model_name": "LayoutModel",
            "_view_count": null,
            "_view_module": "@jupyter-widgets/base",
            "_view_module_version": "1.2.0",
            "_view_name": "LayoutView",
            "align_content": null,
            "align_items": null,
            "align_self": null,
            "border": null,
            "bottom": null,
            "display": null,
            "flex": null,
            "flex_flow": null,
            "grid_area": null,
            "grid_auto_columns": null,
            "grid_auto_flow": null,
            "grid_auto_rows": null,
            "grid_column": null,
            "grid_gap": null,
            "grid_row": null,
            "grid_template_areas": null,
            "grid_template_columns": null,
            "grid_template_rows": null,
            "height": null,
            "justify_content": null,
            "justify_items": null,
            "left": null,
            "margin": null,
            "max_height": null,
            "max_width": null,
            "min_height": null,
            "min_width": null,
            "object_fit": null,
            "object_position": null,
            "order": null,
            "overflow": null,
            "overflow_x": null,
            "overflow_y": null,
            "padding": null,
            "right": null,
            "top": null,
            "visibility": null,
            "width": null
          }
        },
        "9747e65c59c04396baf3916d763d3f59": {
          "model_module": "jupyter-leaflet",
          "model_module_version": "^0.19",
          "model_name": "LeafletTileLayerModel",
          "state": {
            "_model_module": "jupyter-leaflet",
            "_model_module_version": "^0.19",
            "_model_name": "LeafletTileLayerModel",
            "_view_count": null,
            "_view_module": "jupyter-leaflet",
            "_view_module_version": "^0.19",
            "_view_name": "LeafletTileLayerView",
            "attribution": "&copy; <a href=\"https://www.openstreetmap.org/copyright\">OpenStreetMap</a> contributors &copy; <a href=\"https://carto.com/attributions\">CARTO</a>",
            "base": true,
            "bottom": true,
            "bounds": null,
            "detect_retina": false,
            "loading": false,
            "max_native_zoom": null,
            "max_zoom": 20,
            "min_native_zoom": null,
            "min_zoom": 1,
            "name": "CartoDB.Positron",
            "no_wrap": false,
            "opacity": 1,
            "options": [
              "attribution",
              "bounds",
              "detect_retina",
              "max_native_zoom",
              "max_zoom",
              "min_native_zoom",
              "min_zoom",
              "no_wrap",
              "tile_size",
              "tms",
              "zoom_offset"
            ],
            "pane": "",
            "popup": null,
            "popup_max_height": null,
            "popup_max_width": 300,
            "popup_min_width": 50,
            "show_loading": false,
            "subitems": [],
            "tile_size": 256,
            "tms": false,
            "url": "https://a.basemaps.cartocdn.com/light_all/{z}/{x}/{y}.png",
            "visible": true,
            "zoom_offset": 0
          }
        },
        "97ef8b47212e4ef397b8546e504037cd": {
          "model_module": "jupyter-leaflet",
          "model_module_version": "^0.19",
          "model_name": "LeafletLegendControlModel",
          "state": {
            "_model_module": "jupyter-leaflet",
            "_model_module_version": "^0.19",
            "_model_name": "LeafletLegendControlModel",
            "_view_count": null,
            "_view_module": "jupyter-leaflet",
            "_view_module_version": "^0.19",
            "_view_name": "LeafletLegendControlView",
            "legend": {
              "Aumento de agua (100%)": "#00FF00",
              "Disminucion de agua (-100%)": "#FF0000",
              "No se puede calcular": "#888888",
              "Sin cambios": "#000000",
              "Sin datos": "#CCCCCC"
            },
            "options": [
              "position"
            ],
            "position": "bottomright",
            "title": "Leyenda - Change Intensity"
          }
        },
        "98dc34bdfb59425fa343c8573c167ceb": {
          "model_module": "jupyter-leaflet",
          "model_module_version": "^0.19",
          "model_name": "LeafletAttributionControlModel",
          "state": {
            "_model_module": "jupyter-leaflet",
            "_model_module_version": "^0.19",
            "_model_name": "LeafletAttributionControlModel",
            "_view_count": null,
            "_view_module": "jupyter-leaflet",
            "_view_module_version": "^0.19",
            "_view_name": "LeafletAttributionControlView",
            "options": [
              "position",
              "prefix"
            ],
            "position": "bottomright",
            "prefix": "ipyleaflet"
          }
        },
        "a0543b6adeb94142851d6df55878ba0b": {
          "model_module": "@jupyter-widgets/base",
          "model_module_version": "1.2.0",
          "model_name": "LayoutModel",
          "state": {
            "_model_module": "@jupyter-widgets/base",
            "_model_module_version": "1.2.0",
            "_model_name": "LayoutModel",
            "_view_count": null,
            "_view_module": "@jupyter-widgets/base",
            "_view_module_version": "1.2.0",
            "_view_name": "LayoutView",
            "align_content": null,
            "align_items": null,
            "align_self": null,
            "border": null,
            "bottom": null,
            "display": null,
            "flex": null,
            "flex_flow": null,
            "grid_area": null,
            "grid_auto_columns": null,
            "grid_auto_flow": null,
            "grid_auto_rows": null,
            "grid_column": null,
            "grid_gap": null,
            "grid_row": null,
            "grid_template_areas": null,
            "grid_template_columns": null,
            "grid_template_rows": null,
            "height": null,
            "justify_content": null,
            "justify_items": null,
            "left": null,
            "margin": null,
            "max_height": null,
            "max_width": null,
            "min_height": null,
            "min_width": null,
            "object_fit": null,
            "object_position": null,
            "order": null,
            "overflow": null,
            "overflow_x": null,
            "overflow_y": null,
            "padding": null,
            "right": null,
            "top": null,
            "visibility": null,
            "width": null
          }
        },
        "a72ee31c044a4150b8e3898baeca3c65": {
          "model_module": "jupyter-leaflet",
          "model_module_version": "^0.19",
          "model_name": "LeafletDrawControlModel",
          "state": {
            "_model_module": "jupyter-leaflet",
            "_model_module_version": "^0.19",
            "_model_name": "LeafletDrawControlModel",
            "_view_count": null,
            "_view_module": "jupyter-leaflet",
            "_view_module_version": "^0.19",
            "_view_name": "LeafletDrawControlView",
            "circle": {},
            "circlemarker": {
              "shapeOptions": {}
            },
            "data": [],
            "edit": true,
            "marker": {},
            "options": [
              "position"
            ],
            "polygon": {
              "shapeOptions": {}
            },
            "polyline": {
              "shapeOptions": {}
            },
            "position": "topleft",
            "rectangle": {},
            "remove": true
          }
        },
        "a7805e33ed4242958f0e0da7d666d0b8": {
          "model_module": "jupyter-leaflet",
          "model_module_version": "^0.19",
          "model_name": "LeafletDrawControlModel",
          "state": {
            "_model_module": "jupyter-leaflet",
            "_model_module_version": "^0.19",
            "_model_name": "LeafletDrawControlModel",
            "_view_count": null,
            "_view_module": "jupyter-leaflet",
            "_view_module_version": "^0.19",
            "_view_name": "LeafletDrawControlView",
            "circle": {},
            "circlemarker": {
              "shapeOptions": {}
            },
            "data": [],
            "edit": true,
            "marker": {},
            "options": [
              "position"
            ],
            "polygon": {
              "shapeOptions": {}
            },
            "polyline": {
              "shapeOptions": {}
            },
            "position": "topleft",
            "rectangle": {},
            "remove": true
          }
        },
        "a83e8b05a5f14fcea17ba4b08fd34b84": {
          "model_module": "jupyter-leaflet",
          "model_module_version": "^0.19",
          "model_name": "LeafletTileLayerModel",
          "state": {
            "_model_module": "jupyter-leaflet",
            "_model_module_version": "^0.19",
            "_model_name": "LeafletTileLayerModel",
            "_view_count": null,
            "_view_module": "jupyter-leaflet",
            "_view_module_version": "^0.19",
            "_view_name": "LeafletTileLayerView",
            "attribution": "&copy; <a href=\"https://www.openstreetmap.org/copyright\">OpenStreetMap</a> contributors &copy; <a href=\"https://carto.com/attributions\">CARTO</a>",
            "base": true,
            "bottom": true,
            "bounds": null,
            "detect_retina": false,
            "loading": false,
            "max_native_zoom": null,
            "max_zoom": 20,
            "min_native_zoom": null,
            "min_zoom": 1,
            "name": "CartoDB.Positron",
            "no_wrap": false,
            "opacity": 1,
            "options": [
              "attribution",
              "bounds",
              "detect_retina",
              "max_native_zoom",
              "max_zoom",
              "min_native_zoom",
              "min_zoom",
              "no_wrap",
              "tile_size",
              "tms",
              "zoom_offset"
            ],
            "pane": "",
            "popup": null,
            "popup_max_height": null,
            "popup_max_width": 300,
            "popup_min_width": 50,
            "show_loading": false,
            "subitems": [],
            "tile_size": 256,
            "tms": false,
            "url": "https://a.basemaps.cartocdn.com/light_all/{z}/{x}/{y}.png",
            "visible": true,
            "zoom_offset": 0
          }
        },
        "a9d06d87b24c481ea90433fc8fe0e04c": {
          "model_module": "jupyter-leaflet",
          "model_module_version": "^0.19",
          "model_name": "LeafletMapStyleModel",
          "state": {
            "_model_module": "jupyter-leaflet",
            "_model_module_version": "^0.19",
            "_model_name": "LeafletMapStyleModel",
            "_view_count": null,
            "_view_module": "@jupyter-widgets/base",
            "_view_module_version": "1.2.0",
            "_view_name": "StyleView",
            "cursor": "grab"
          }
        },
        "b0d0bad1047342f496fcebf4e1cb7342": {
          "model_module": "@jupyter-widgets/base",
          "model_module_version": "1.2.0",
          "model_name": "LayoutModel",
          "state": {
            "_model_module": "@jupyter-widgets/base",
            "_model_module_version": "1.2.0",
            "_model_name": "LayoutModel",
            "_view_count": null,
            "_view_module": "@jupyter-widgets/base",
            "_view_module_version": "1.2.0",
            "_view_name": "LayoutView",
            "align_content": null,
            "align_items": null,
            "align_self": null,
            "border": null,
            "bottom": null,
            "display": null,
            "flex": null,
            "flex_flow": null,
            "grid_area": null,
            "grid_auto_columns": null,
            "grid_auto_flow": null,
            "grid_auto_rows": null,
            "grid_column": null,
            "grid_gap": null,
            "grid_row": null,
            "grid_template_areas": null,
            "grid_template_columns": null,
            "grid_template_rows": null,
            "height": null,
            "justify_content": null,
            "justify_items": null,
            "left": null,
            "margin": null,
            "max_height": null,
            "max_width": null,
            "min_height": null,
            "min_width": null,
            "object_fit": null,
            "object_position": null,
            "order": null,
            "overflow": null,
            "overflow_x": null,
            "overflow_y": null,
            "padding": null,
            "right": null,
            "top": null,
            "visibility": null,
            "width": null
          }
        },
        "b129a6b762064c2fb53a7c9e3c5850f0": {
          "model_module": "jupyter-leaflet",
          "model_module_version": "^0.19",
          "model_name": "LeafletMapModel",
          "state": {
            "_dom_classes": [],
            "_model_module": "jupyter-leaflet",
            "_model_module_version": "^0.19",
            "_model_name": "LeafletMapModel",
            "_view_count": null,
            "_view_module": "jupyter-leaflet",
            "_view_module_version": "^0.19",
            "_view_name": "LeafletMapView",
            "bottom": 31296,
            "bounce_at_zoom_limits": true,
            "box_zoom": true,
            "center": [
              9.144571,
              -74.634518
            ],
            "close_popup_on_click": true,
            "controls": [
              "IPY_MODEL_5d6647c910224e8b8087c6b2230da82f",
              "IPY_MODEL_8ae9ffeb4f5545d3a43f3f0b27b8fab0",
              "IPY_MODEL_c96a362b5b664bf5b116ed56c2ae45f4",
              "IPY_MODEL_f3f44d79bfcc424abeba3e37319ba45d"
            ],
            "crs": {
              "custom": false,
              "name": "EPSG3857"
            },
            "default_style": "IPY_MODEL_71fc755a7e324acd91fe7793ee148888",
            "double_click_zoom": true,
            "dragging": true,
            "dragging_style": "IPY_MODEL_4c43a5f1703c400b80082843ac50d215",
            "east": -69.38964843750001,
            "fullscreen": false,
            "inertia": true,
            "inertia_deceleration": 3000,
            "inertia_max_speed": 1500,
            "interpolation": "bilinear",
            "keyboard": true,
            "keyboard_pan_offset": 80,
            "keyboard_zoom_offset": 1,
            "layers": [
              "IPY_MODEL_a83e8b05a5f14fcea17ba4b08fd34b84",
              "IPY_MODEL_44fc251a54274f51add946b6e73b4252"
            ],
            "layout": "IPY_MODEL_a0543b6adeb94142851d6df55878ba0b",
            "left": 18226,
            "max_zoom": null,
            "min_zoom": null,
            "modisdate": "2025-03-02",
            "north": 10.228437266155955,
            "options": [
              "bounce_at_zoom_limits",
              "box_zoom",
              "center",
              "close_popup_on_click",
              "double_click_zoom",
              "dragging",
              "fullscreen",
              "inertia",
              "inertia_deceleration",
              "inertia_max_speed",
              "interpolation",
              "keyboard",
              "keyboard_pan_offset",
              "keyboard_zoom_offset",
              "max_zoom",
              "min_zoom",
              "prefer_canvas",
              "scroll_wheel_zoom",
              "tap",
              "tap_tolerance",
              "touch_zoom",
              "world_copy_jump",
              "zoom",
              "zoom_animation_threshold",
              "zoom_delta",
              "zoom_snap"
            ],
            "panes": {},
            "prefer_canvas": false,
            "right": 20136,
            "scroll_wheel_zoom": false,
            "south": 8.059229627200192,
            "style": "IPY_MODEL_66e57be047144b1597d68b231bee0411",
            "tap": true,
            "tap_tolerance": 15,
            "top": 30896,
            "touch_zoom": true,
            "west": -79.88159179687501,
            "window_url": "https://ld0c0czqsij-496ff2e9c6d22116-0-colab.googleusercontent.com/outputframe.html?vrz=colab_20250228-060212_RC00_732100514",
            "world_copy_jump": false,
            "zoom": 8,
            "zoom_animation_threshold": 4,
            "zoom_delta": 1,
            "zoom_snap": 1
          }
        },
        "ba0f121439b34344814899661426f9e5": {
          "model_module": "jupyter-leaflet",
          "model_module_version": "^0.19",
          "model_name": "LeafletMapStyleModel",
          "state": {
            "_model_module": "jupyter-leaflet",
            "_model_module_version": "^0.19",
            "_model_name": "LeafletMapStyleModel",
            "_view_count": null,
            "_view_module": "@jupyter-widgets/base",
            "_view_module_version": "1.2.0",
            "_view_name": "StyleView",
            "cursor": "grab"
          }
        },
        "bf0752c14b29443f8c6171f1d23f1f09": {
          "model_module": "jupyter-leaflet",
          "model_module_version": "^0.19",
          "model_name": "LeafletZoomControlModel",
          "state": {
            "_model_module": "jupyter-leaflet",
            "_model_module_version": "^0.19",
            "_model_name": "LeafletZoomControlModel",
            "_view_count": null,
            "_view_module": "jupyter-leaflet",
            "_view_module_version": "^0.19",
            "_view_name": "LeafletZoomControlView",
            "options": [
              "position",
              "zoom_in_text",
              "zoom_in_title",
              "zoom_out_text",
              "zoom_out_title"
            ],
            "position": "topleft",
            "zoom_in_text": "+",
            "zoom_in_title": "Zoom in",
            "zoom_out_text": "-",
            "zoom_out_title": "Zoom out"
          }
        },
        "c94774d1c0e34daebf8cc6a54c8c2600": {
          "model_module": "jupyter-leaflet",
          "model_module_version": "^0.19",
          "model_name": "LeafletDrawControlModel",
          "state": {
            "_model_module": "jupyter-leaflet",
            "_model_module_version": "^0.19",
            "_model_name": "LeafletDrawControlModel",
            "_view_count": null,
            "_view_module": "jupyter-leaflet",
            "_view_module_version": "^0.19",
            "_view_name": "LeafletDrawControlView",
            "circle": {},
            "circlemarker": {
              "shapeOptions": {}
            },
            "data": [],
            "edit": true,
            "marker": {},
            "options": [
              "position"
            ],
            "polygon": {
              "shapeOptions": {}
            },
            "polyline": {
              "shapeOptions": {}
            },
            "position": "topleft",
            "rectangle": {},
            "remove": true
          }
        },
        "c96a362b5b664bf5b116ed56c2ae45f4": {
          "model_module": "jupyter-leaflet",
          "model_module_version": "^0.19",
          "model_name": "LeafletLegendControlModel",
          "state": {
            "_model_module": "jupyter-leaflet",
            "_model_module_version": "^0.19",
            "_model_name": "LeafletLegendControlModel",
            "_view_count": null,
            "_view_module": "jupyter-leaflet",
            "_view_module_version": "^0.19",
            "_view_name": "LeafletLegendControlView",
            "legend": {
              "Agua estacional": "#99D9EA",
              "Agua permanente": "#0000FF",
              "Ephemeral estacional": "#C3C3C3",
              "Ephemeral permanente": "#7F7F7F",
              "Estacional a permanente": "#FF7F27",
              "Nueva agua estacional": "#B5E61D",
              "Nueva agua permanente": "#22B14C",
              "Perdida de agua estacional": "#E6A1AA",
              "Perdida de agua permanente": "#D1102D",
              "Permanente a estacional": "#FFC90E",
              "Sin agua": "#FFFFFF",
              "Sin datos": "#CCCCCC"
            },
            "options": [
              "position"
            ],
            "position": "bottomright",
            "title": "Leyenda - Transitions"
          }
        },
        "cc3201877a12453481c93b24617c2120": {
          "model_module": "@jupyter-widgets/base",
          "model_module_version": "1.2.0",
          "model_name": "LayoutModel",
          "state": {
            "_model_module": "@jupyter-widgets/base",
            "_model_module_version": "1.2.0",
            "_model_name": "LayoutModel",
            "_view_count": null,
            "_view_module": "@jupyter-widgets/base",
            "_view_module_version": "1.2.0",
            "_view_name": "LayoutView",
            "align_content": null,
            "align_items": null,
            "align_self": null,
            "border": null,
            "bottom": null,
            "display": null,
            "flex": null,
            "flex_flow": null,
            "grid_area": null,
            "grid_auto_columns": null,
            "grid_auto_flow": null,
            "grid_auto_rows": null,
            "grid_column": null,
            "grid_gap": null,
            "grid_row": null,
            "grid_template_areas": null,
            "grid_template_columns": null,
            "grid_template_rows": null,
            "height": null,
            "justify_content": null,
            "justify_items": null,
            "left": null,
            "margin": null,
            "max_height": null,
            "max_width": null,
            "min_height": null,
            "min_width": null,
            "object_fit": null,
            "object_position": null,
            "order": null,
            "overflow": null,
            "overflow_x": null,
            "overflow_y": null,
            "padding": null,
            "right": null,
            "top": null,
            "visibility": null,
            "width": null
          }
        },
        "ceb6e748529a4f1dadd17a7906294b49": {
          "model_module": "jupyter-leaflet",
          "model_module_version": "^0.19",
          "model_name": "LeafletLegendControlModel",
          "state": {
            "_model_module": "jupyter-leaflet",
            "_model_module_version": "^0.19",
            "_model_name": "LeafletLegendControlModel",
            "_view_count": null,
            "_view_module": "jupyter-leaflet",
            "_view_module_version": "^0.19",
            "_view_name": "LeafletLegendControlView",
            "legend": {
              "1 mes (Agua estacional)": "#99D9EA",
              "12 meses (Agua permanente)": "#0000AA",
              "Sin agua": "#FFFFFF",
              "Sin datos": "#CCCCCC"
            },
            "options": [
              "position"
            ],
            "position": "bottomright",
            "title": "Leyenda - Seasonality"
          }
        },
        "d455ce53748f48f79dfe86c18e75b11b": {
          "model_module": "jupyter-leaflet",
          "model_module_version": "^0.19",
          "model_name": "LeafletMapStyleModel",
          "state": {
            "_model_module": "jupyter-leaflet",
            "_model_module_version": "^0.19",
            "_model_name": "LeafletMapStyleModel",
            "_view_count": null,
            "_view_module": "@jupyter-widgets/base",
            "_view_module_version": "1.2.0",
            "_view_name": "StyleView",
            "cursor": "grab"
          }
        },
        "d94935b27dcf43658f9a9c8e05415e8a": {
          "model_module": "jupyter-leaflet",
          "model_module_version": "^0.19",
          "model_name": "LeafletLegendControlModel",
          "state": {
            "_model_module": "jupyter-leaflet",
            "_model_module_version": "^0.19",
            "_model_name": "LeafletLegendControlModel",
            "_view_count": null,
            "_view_module": "jupyter-leaflet",
            "_view_module_version": "^0.19",
            "_view_name": "LeafletLegendControlView",
            "legend": {
              "Agua detectada": "#6666FF",
              "Sin agua": "#FFFFFF",
              "Sin datos": "#CCCCCC"
            },
            "options": [
              "position"
            ],
            "position": "bottomright",
            "title": "Leyenda - Maximum Water Extent"
          }
        },
        "da5dec73d6814b62ba1a2626f39c623a": {
          "model_module": "jupyter-leaflet",
          "model_module_version": "^0.19",
          "model_name": "LeafletMapStyleModel",
          "state": {
            "_model_module": "jupyter-leaflet",
            "_model_module_version": "^0.19",
            "_model_name": "LeafletMapStyleModel",
            "_view_count": null,
            "_view_module": "@jupyter-widgets/base",
            "_view_module_version": "1.2.0",
            "_view_name": "StyleView",
            "cursor": "grab"
          }
        },
        "db61712c8ceb470189c7c4e8c724a099": {
          "model_module": "jupyter-leaflet",
          "model_module_version": "^0.19",
          "model_name": "LeafletMapModel",
          "state": {
            "_dom_classes": [],
            "_model_module": "jupyter-leaflet",
            "_model_module_version": "^0.19",
            "_model_name": "LeafletMapModel",
            "_view_count": null,
            "_view_module": "jupyter-leaflet",
            "_view_module_version": "^0.19",
            "_view_name": "LeafletMapView",
            "bottom": 31296,
            "bounce_at_zoom_limits": true,
            "box_zoom": true,
            "center": [
              9.144571,
              -74.634518
            ],
            "close_popup_on_click": true,
            "controls": [
              "IPY_MODEL_0f69795abeff48cfa7b76f98a96237e2",
              "IPY_MODEL_620fa3c90ecc4b28ae2b9c6b0741e531",
              "IPY_MODEL_63a11e7a84c7468495485e7de5cd1ec5",
              "IPY_MODEL_649bbad8198e4d0cb4d4864a8e9dcebe"
            ],
            "crs": {
              "custom": false,
              "name": "EPSG3857"
            },
            "default_style": "IPY_MODEL_0367849cb6074b52bbba78c70bdd3222",
            "double_click_zoom": true,
            "dragging": true,
            "dragging_style": "IPY_MODEL_8174a4314dd947f28ed9fa3333b37b7b",
            "east": -69.38964843750001,
            "fullscreen": false,
            "inertia": true,
            "inertia_deceleration": 3000,
            "inertia_max_speed": 1500,
            "interpolation": "bilinear",
            "keyboard": true,
            "keyboard_pan_offset": 80,
            "keyboard_zoom_offset": 1,
            "layers": [
              "IPY_MODEL_9747e65c59c04396baf3916d763d3f59",
              "IPY_MODEL_e28431d276b947b3a529c59d3c86e39d"
            ],
            "layout": "IPY_MODEL_9410e181600d420ab6894a1cf3cebc34",
            "left": 18226,
            "max_zoom": null,
            "min_zoom": null,
            "modisdate": "2025-03-02",
            "north": 10.228437266155955,
            "options": [
              "bounce_at_zoom_limits",
              "box_zoom",
              "center",
              "close_popup_on_click",
              "double_click_zoom",
              "dragging",
              "fullscreen",
              "inertia",
              "inertia_deceleration",
              "inertia_max_speed",
              "interpolation",
              "keyboard",
              "keyboard_pan_offset",
              "keyboard_zoom_offset",
              "max_zoom",
              "min_zoom",
              "prefer_canvas",
              "scroll_wheel_zoom",
              "tap",
              "tap_tolerance",
              "touch_zoom",
              "world_copy_jump",
              "zoom",
              "zoom_animation_threshold",
              "zoom_delta",
              "zoom_snap"
            ],
            "panes": {},
            "prefer_canvas": false,
            "right": 20136,
            "scroll_wheel_zoom": false,
            "south": 8.059229627200192,
            "style": "IPY_MODEL_a9d06d87b24c481ea90433fc8fe0e04c",
            "tap": true,
            "tap_tolerance": 15,
            "top": 30896,
            "touch_zoom": true,
            "west": -79.88159179687501,
            "window_url": "https://ld0c0czqsij-496ff2e9c6d22116-0-colab.googleusercontent.com/outputframe.html?vrz=colab_20250228-060212_RC00_732100514",
            "world_copy_jump": false,
            "zoom": 8,
            "zoom_animation_threshold": 4,
            "zoom_delta": 1,
            "zoom_snap": 1
          }
        },
        "dcd7956ec2314d2aba475911873c44a9": {
          "model_module": "jupyter-leaflet",
          "model_module_version": "^0.19",
          "model_name": "LeafletTileLayerModel",
          "state": {
            "_model_module": "jupyter-leaflet",
            "_model_module_version": "^0.19",
            "_model_name": "LeafletTileLayerModel",
            "_view_count": null,
            "_view_module": "jupyter-leaflet",
            "_view_module_version": "^0.19",
            "_view_name": "LeafletTileLayerView",
            "attribution": null,
            "base": false,
            "bottom": true,
            "bounds": null,
            "detect_retina": false,
            "loading": false,
            "max_native_zoom": null,
            "max_zoom": 18,
            "min_native_zoom": null,
            "min_zoom": 0,
            "name": "",
            "no_wrap": false,
            "opacity": 1,
            "options": [
              "attribution",
              "bounds",
              "detect_retina",
              "max_native_zoom",
              "max_zoom",
              "min_native_zoom",
              "min_zoom",
              "no_wrap",
              "tile_size",
              "tms",
              "zoom_offset"
            ],
            "pane": "",
            "popup": null,
            "popup_max_height": null,
            "popup_max_width": 300,
            "popup_min_width": 50,
            "show_loading": false,
            "subitems": [],
            "tile_size": 256,
            "tms": false,
            "url": "https://storage.googleapis.com/global-surface-water/tiles2021/recurrence/{z}/{x}/{y}.png",
            "visible": true,
            "zoom_offset": 0
          }
        },
        "df1d0d079d864b37968170cd81005e21": {
          "model_module": "jupyter-leaflet",
          "model_module_version": "^0.19",
          "model_name": "LeafletMapStyleModel",
          "state": {
            "_model_module": "jupyter-leaflet",
            "_model_module_version": "^0.19",
            "_model_name": "LeafletMapStyleModel",
            "_view_count": null,
            "_view_module": "@jupyter-widgets/base",
            "_view_module_version": "1.2.0",
            "_view_name": "StyleView",
            "cursor": "move"
          }
        },
        "e28431d276b947b3a529c59d3c86e39d": {
          "model_module": "jupyter-leaflet",
          "model_module_version": "^0.19",
          "model_name": "LeafletTileLayerModel",
          "state": {
            "_model_module": "jupyter-leaflet",
            "_model_module_version": "^0.19",
            "_model_name": "LeafletTileLayerModel",
            "_view_count": null,
            "_view_module": "jupyter-leaflet",
            "_view_module_version": "^0.19",
            "_view_name": "LeafletTileLayerView",
            "attribution": null,
            "base": false,
            "bottom": true,
            "bounds": null,
            "detect_retina": false,
            "loading": false,
            "max_native_zoom": null,
            "max_zoom": 18,
            "min_native_zoom": null,
            "min_zoom": 0,
            "name": "",
            "no_wrap": false,
            "opacity": 1,
            "options": [
              "attribution",
              "bounds",
              "detect_retina",
              "max_native_zoom",
              "max_zoom",
              "min_native_zoom",
              "min_zoom",
              "no_wrap",
              "tile_size",
              "tms",
              "zoom_offset"
            ],
            "pane": "",
            "popup": null,
            "popup_max_height": null,
            "popup_max_width": 300,
            "popup_min_width": 50,
            "show_loading": false,
            "subitems": [],
            "tile_size": 256,
            "tms": false,
            "url": "https://storage.googleapis.com/global-surface-water/tiles2021/occurrence/{z}/{x}/{y}.png",
            "visible": true,
            "zoom_offset": 0
          }
        },
        "edee9660507d4a4fbfafb12d4072cb9e": {
          "model_module": "jupyter-leaflet",
          "model_module_version": "^0.19",
          "model_name": "LeafletMapStyleModel",
          "state": {
            "_model_module": "jupyter-leaflet",
            "_model_module_version": "^0.19",
            "_model_name": "LeafletMapStyleModel",
            "_view_count": null,
            "_view_module": "@jupyter-widgets/base",
            "_view_module_version": "1.2.0",
            "_view_name": "StyleView",
            "cursor": "grab"
          }
        },
        "f3ebc878e6a441c9bb7bb15ebb686ac0": {
          "model_module": "jupyter-leaflet",
          "model_module_version": "^0.19",
          "model_name": "LeafletTileLayerModel",
          "state": {
            "_model_module": "jupyter-leaflet",
            "_model_module_version": "^0.19",
            "_model_name": "LeafletTileLayerModel",
            "_view_count": null,
            "_view_module": "jupyter-leaflet",
            "_view_module_version": "^0.19",
            "_view_name": "LeafletTileLayerView",
            "attribution": "&copy; <a href=\"https://www.openstreetmap.org/copyright\">OpenStreetMap</a> contributors &copy; <a href=\"https://carto.com/attributions\">CARTO</a>",
            "base": true,
            "bottom": true,
            "bounds": null,
            "detect_retina": false,
            "loading": false,
            "max_native_zoom": null,
            "max_zoom": 20,
            "min_native_zoom": null,
            "min_zoom": 1,
            "name": "CartoDB.Positron",
            "no_wrap": false,
            "opacity": 1,
            "options": [
              "attribution",
              "bounds",
              "detect_retina",
              "max_native_zoom",
              "max_zoom",
              "min_native_zoom",
              "min_zoom",
              "no_wrap",
              "tile_size",
              "tms",
              "zoom_offset"
            ],
            "pane": "",
            "popup": null,
            "popup_max_height": null,
            "popup_max_width": 300,
            "popup_min_width": 50,
            "show_loading": false,
            "subitems": [],
            "tile_size": 256,
            "tms": false,
            "url": "https://a.basemaps.cartocdn.com/light_all/{z}/{x}/{y}.png",
            "visible": true,
            "zoom_offset": 0
          }
        },
        "f3f44d79bfcc424abeba3e37319ba45d": {
          "model_module": "jupyter-leaflet",
          "model_module_version": "^0.19",
          "model_name": "LeafletDrawControlModel",
          "state": {
            "_model_module": "jupyter-leaflet",
            "_model_module_version": "^0.19",
            "_model_name": "LeafletDrawControlModel",
            "_view_count": null,
            "_view_module": "jupyter-leaflet",
            "_view_module_version": "^0.19",
            "_view_name": "LeafletDrawControlView",
            "circle": {},
            "circlemarker": {
              "shapeOptions": {}
            },
            "data": [],
            "edit": true,
            "marker": {},
            "options": [
              "position"
            ],
            "polygon": {
              "shapeOptions": {}
            },
            "polyline": {
              "shapeOptions": {}
            },
            "position": "topleft",
            "rectangle": {},
            "remove": true
          }
        },
        "f70b9331f79f41129f148f20993f8471": {
          "model_module": "jupyter-leaflet",
          "model_module_version": "^0.19",
          "model_name": "LeafletZoomControlModel",
          "state": {
            "_model_module": "jupyter-leaflet",
            "_model_module_version": "^0.19",
            "_model_name": "LeafletZoomControlModel",
            "_view_count": null,
            "_view_module": "jupyter-leaflet",
            "_view_module_version": "^0.19",
            "_view_name": "LeafletZoomControlView",
            "options": [
              "position",
              "zoom_in_text",
              "zoom_in_title",
              "zoom_out_text",
              "zoom_out_title"
            ],
            "position": "topleft",
            "zoom_in_text": "+",
            "zoom_in_title": "Zoom in",
            "zoom_out_text": "-",
            "zoom_out_title": "Zoom out"
          }
        }
      }
    }
  },
  "nbformat": 4,
  "nbformat_minor": 0
}
